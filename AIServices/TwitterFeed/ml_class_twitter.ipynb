{
 "cells": [
  {
   "cell_type": "code",
   "execution_count": 30,
   "metadata": {},
   "outputs": [],
   "source": [
    "import numpy as np\n",
    "import pandas as pd\n",
    "import matplotlib.pyplot as plt\n",
    "\n",
    "# AWS Twitter Labelled Tweets are available here: \n",
    "# https://s3.console.aws.amazon.com/s3/buckets/aml-sample-data/?region=us-east-2\n",
    "#   File:  social-media/aml_training_dataset.csv\n",
    "    \n",
    "# Complete AWS Provided Solution:\n",
    "# https://github.com/awslabs/machine-learning-samples/tree/master/social-media"
   ]
  },
  {
   "cell_type": "code",
   "execution_count": 31,
   "metadata": {},
   "outputs": [],
   "source": [
    "df = pd.read_csv('aml_training_dataset.csv')"
   ]
  },
  {
   "cell_type": "code",
   "execution_count": 32,
   "metadata": {},
   "outputs": [
    {
     "name": "stdout",
     "output_type": "stream",
     "text": [
      "Rows: 10008, Columns: 45\n"
     ]
    }
   ],
   "source": [
    "print('Rows: {0}, Columns: {1}'.format(df.shape[0],df.shape[1]))"
   ]
  },
  {
   "cell_type": "code",
   "execution_count": 33,
   "metadata": {
    "scrolled": true
   },
   "outputs": [
    {
     "data": {
      "text/plain": [
       "Index(['created_at_in_seconds', 'description', 'favorite_count', 'favorited',\n",
       "       'favourites_count', 'followers_count', 'friends_count', 'geo_enabled',\n",
       "       'in_reply_to_screen_name', 'in_reply_to_status_id',\n",
       "       'in_reply_to_user_id', 'location', 'r.created_at_in_seconds',\n",
       "       'r.description', 'r.favorite_count', 'r.favorited',\n",
       "       'r.favourites_count', 'r.followers_count', 'r.friends_count',\n",
       "       'r.geo_enabled', 'r.in_reply_to_screen_name', 'r.in_reply_to_status_id',\n",
       "       'r.in_reply_to_user_id', 'r.location', 'r.retweet_count',\n",
       "       'r.screen_name', 'r.sid', 'r.statuses_count', 'r.text', 'r.time_zone',\n",
       "       'r.uid', 'r.user.name', 'r.utc_offset', 'r.verified', 'retweet_count',\n",
       "       'screen_name', 'sid', 'statuses_count', 'text', 'time_zone', 'uid',\n",
       "       'user.name', 'utc_offset', 'verified', 'trainingLabel'],\n",
       "      dtype='object')"
      ]
     },
     "execution_count": 33,
     "metadata": {},
     "output_type": "execute_result"
    }
   ],
   "source": [
    "df.columns"
   ]
  },
  {
   "cell_type": "code",
   "execution_count": 34,
   "metadata": {},
   "outputs": [],
   "source": [
    "# trainingLabel contains the class\n",
    "# Valid values are: \n",
    "#  0 = Ignore\n",
    "#  1 = Followup\n",
    "tweet_ignore = df['trainingLabel'] == 0\n",
    "tweet_followup = df['trainingLabel'] == 1"
   ]
  },
  {
   "cell_type": "code",
   "execution_count": 35,
   "metadata": {},
   "outputs": [
    {
     "name": "stdout",
     "output_type": "stream",
     "text": [
      "Visit @awscloud Sept 11-16 #Amsterdam to learn how their services can help YOU @IBCShow. http://t.co/110YOIlTbU\n",
      "\n",
      "It's insulting that @awscloud marked an EBS volume limit increase support request as low severity but I can't do anything while I wait.\n",
      "\n",
      "dear @awscloud it would be really great to have custom tabs on the aws console with searches on. I have too many instances already :)\n",
      "\n",
      "@awscloud chat about a future guest spot on #MobileChat to discuss how infrastructure backend is just as important as mobile front end?\n",
      "\n",
      "\"RT @aneel: I wonder how much @eucalyptus's api thing with @awscloud was worth to @hphelioncloud https://t.co/tKUNboFkn1” << $$$\n",
      "\n",
      "How to build scalable #applications on the @awscloud platform: http://t.co/WrCtaFU4jq\n",
      "\n",
      "Seriously though, @awscloud - how is the request rate limit determined? How do I get it boosted?\n",
      "\n",
      "@awscloud It would be cool if we received an alert that we are nearing a service limit before we actually hit it.\n",
      "\n",
      "Wondering if @awscloud is still using #TrueCrypt for their Import/Export encrypted service :].\n",
      "\n",
      "Apple store still down...pretty surprising that Apple can't even handle expected traffic spike, @awscloud or @googlecloud could help :)\n",
      "\n",
      "@awsforphp I believe the latest PHP SDK (v2.6.16) is broken again. More details coming. @jeffbarr @awscloud @jeremeamia\n",
      "\n",
      "@awsforphp @jeffbarr @awscloud @jeremeamia Parse error: syntax error, unexpected '[' in phar:///.../aws.phar/aws-autoloader.php on line 3\n",
      "\n",
      "@awsforphp @jeffbarr @awscloud @jeremeamia PHP SDK v2.6.15 works fine.  Error happens on @AWSOpsWorks PHP v5.3.29 with PHP SDK 2.6.16\n",
      "\n",
      "Have you registered for our Lunch & Learn event in Charlotte, NC with @awscloud and @2ndwatch on 9/25? Sign up today http://t.co/Xz7wI0qsWQ\n",
      "\n",
      "@jeremeamia Thanks for the quick response.  So when do honorary members of the @awscloud team get AWS t-shirts? :) /cc @jeffbarr\n",
      "\n"
     ]
    }
   ],
   "source": [
    "# Some examples of tweets that are classified as requiring follow-up\n",
    "for i in range(15):\n",
    "    print(df[tweet_followup]['text'].iloc[i])\n",
    "    print()"
   ]
  },
  {
   "cell_type": "code",
   "execution_count": 36,
   "metadata": {},
   "outputs": [
    {
     "name": "stdout",
     "output_type": "stream",
     "text": [
      "@JeffBezosAmazon @amazon @awscloud -> Jeff get's into the Act. http://t.co/QYVgBd8o0b  #ALSIceBucketChallenge\n",
      "\n",
      "Super excited to take this selfie at #seedcamp today - thanks to @awscloud for hosting :) http://t.co/4849U96iJS\n",
      "\n",
      "The stage is set at @awscloud in Holburn for our second day of mentoring, this time with investors #seedcamp http://t.co/868c0aDQNl\n",
      "\n",
      "RT @seedcamp The stage is set at @awscloud in Holburn for our second day of mentoring, this time with investors! http://t.co/y88oKRYW04\n",
      "\n",
      "Warming up for the final pitches at @seedcamp week London #investor day. Thanks to @awscloud for hosting us. http://t.co/7CNRlo9tYa\n",
      "\n",
      "That is one full room at @awscloud as our mentoring day kicks off with an intro from @phylosopher #seedcamp http://t.co/70MEiflur4\n",
      "\n",
      "Cloud Pioneer http://t.co/Kox4nZ8ajx @awscloud @cloudfoundry  @HELPLINE_Corp @JLU122 @Aco63\n",
      "\n",
      "Standing room only @seedcamp London week, hosted at @awscloud. #seedcamp http://t.co/PYUtzSuVtY\n",
      "\n",
      "Thanks to @AWScloud for hosting us today and having @danielgandesha give another presentation for #seedcamp week\n",
      "\n",
      "RT @pablo_tech: Cloud Pioneer http://t.co/4vjW4e4nIM @awscloud @cloudfoundry @HELPLINE_Corp @JLU122 @Aco63\n",
      "\n"
     ]
    }
   ],
   "source": [
    "# Some examples of tweets that are classified as ignorable\n",
    "for i in range(10):\n",
    "    print(df[tweet_ignore]['text'].iloc[i])\n",
    "    print()"
   ]
  },
  {
   "cell_type": "code",
   "execution_count": 37,
   "metadata": {},
   "outputs": [
    {
     "name": "stdout",
     "output_type": "stream",
     "text": [
      "How is the request rate limit determined?\n",
      "\n",
      "\t ['How', 'is', 'the', 'request', 'rate', 'limit', 'determined?']\n"
     ]
    }
   ],
   "source": [
    "# Model 1: Use all features as-is (baseline performance)\n",
    "# AWS ML - Text is tokenized on whitespace\n",
    "# Case is preserved and punctuations are preserved\n",
    "\n",
    "s = \"How is the request rate limit determined?\"\n",
    "print(s)\n",
    "print()\n",
    "print ('\\t',s.split(' '))"
   ]
  },
  {
   "cell_type": "code",
   "execution_count": 38,
   "metadata": {},
   "outputs": [
    {
     "name": "stdout",
     "output_type": "stream",
     "text": [
      "How is the request rate LIMIT Determined?\n",
      "how is the request rate limit determined?\n",
      "\n",
      "lower case\n",
      "\t ['how', 'is', 'the', 'request', 'rate', 'limit', 'determined?']\n",
      "\n",
      "after removing punctuation\n",
      "\t ['how', 'is', 'the', 'request', 'rate', 'limit', 'determined']\n",
      "\n",
      "words alter meaning\n",
      "\t this is working. not disappointed (trainingLabel=0)\n",
      "\t this is not working. disappointed (trainingLabel=1)\n",
      "\n",
      "\t ['this', 'is', 'working.', 'not', 'disappointed'] (trainingLabel=0)\n",
      "\t ['this', 'is', 'not', 'working.', 'disappointed'] (trainingLabel=1)\n",
      "\n",
      "NGRAM - size 2\n",
      "\t ['this is', 'is working', 'working not', 'not disappointed']\n",
      "\t ['this is', 'is not', 'not working', 'working disappointed']\n"
     ]
    }
   ],
   "source": [
    "# Model 2: Use AWS ML Data Transformation\n",
    "#  1. Convert text to lower case\n",
    "#  2. Remove prefix or suffix punctuations\n",
    "#  3. Use NGRAM and form two word combinations\n",
    "\n",
    "s = \"How is the request rate LIMIT Determined?\"\n",
    "print (s)\n",
    "print (s.lower())\n",
    "print()\n",
    "print ('lower case')\n",
    "print('\\t',s.lower().split(' '))\n",
    "print()\n",
    "s = \"How is the request rate LIMIT Determined\"\n",
    "print ('after removing punctuation')\n",
    "print ('\\t',s.lower().split(' '))\n",
    "print()\n",
    "print ('words alter meaning')\n",
    "print ('\\t',\"this is working. not disappointed (trainingLabel=0)\")\n",
    "print ('\\t',\"this is not working. disappointed (trainingLabel=1)\")\n",
    "print ()\n",
    "print ('\\t',\"this is working. not disappointed\".split(),\"(trainingLabel=0)\")\n",
    "print ('\\t',\"this is not working. disappointed\".split(),\"(trainingLabel=1)\")\n",
    "print ()\n",
    "\n",
    "print ('NGRAM - size 2')\n",
    "print ('\\t',[\"this is\", \"is working\", \"working not\", \"not disappointed\"])\n",
    "print('\\t',[\"this is\", \"is not\", \"not working\", \"working disappointed\"])"
   ]
  },
  {
   "cell_type": "code",
   "execution_count": 39,
   "metadata": {},
   "outputs": [],
   "source": [
    "# Model 3 - Train with only text"
   ]
  },
  {
   "cell_type": "code",
   "execution_count": 40,
   "metadata": {},
   "outputs": [
    {
     "name": "stdout",
     "output_type": "stream",
     "text": [
      "Stem to the root word\n",
      "\n",
      "All these words are treated differently\n",
      "\t ['working', 'worked', 'works']\n",
      "\n",
      "After stemming - words have same root\n",
      "\t ['work', 'work', 'work']\n"
     ]
    }
   ],
   "source": [
    "# Model 4 - Train with only root words using Stemming\n",
    "print ('Stem to the root word')\n",
    "print()\n",
    "print ('All these words are treated differently')\n",
    "print ('\\t',[\"working\", \"worked\", \"works\"])\n",
    "print ()\n",
    "print ('After stemming - words have same root')\n",
    "print ('\\t',[\"work\", \"work\", \"work\"])"
   ]
  },
  {
   "cell_type": "code",
   "execution_count": 41,
   "metadata": {},
   "outputs": [],
   "source": [
    "# Data Types, Missing Values and Ratios Example code adapted from: \n",
    "# Reference: https://www.kaggle.com/sudalairajkumar/simple-exploration-notebook-zillow-prize\n",
    "\n",
    "# Explore data types\n",
    "data_types = df.dtypes.reset_index()\n",
    "data_types.columns = [\"ColumnName\", \"ColumnType\"]"
   ]
  },
  {
   "cell_type": "code",
   "execution_count": 42,
   "metadata": {},
   "outputs": [
    {
     "data": {
      "text/html": [
       "<div>\n",
       "<style scoped>\n",
       "    .dataframe tbody tr th:only-of-type {\n",
       "        vertical-align: middle;\n",
       "    }\n",
       "\n",
       "    .dataframe tbody tr th {\n",
       "        vertical-align: top;\n",
       "    }\n",
       "\n",
       "    .dataframe thead th {\n",
       "        text-align: right;\n",
       "    }\n",
       "</style>\n",
       "<table border=\"1\" class=\"dataframe\">\n",
       "  <thead>\n",
       "    <tr style=\"text-align: right;\">\n",
       "      <th></th>\n",
       "      <th>ColumnName</th>\n",
       "    </tr>\n",
       "    <tr>\n",
       "      <th>ColumnType</th>\n",
       "      <th></th>\n",
       "    </tr>\n",
       "  </thead>\n",
       "  <tbody>\n",
       "    <tr>\n",
       "      <th>bool</th>\n",
       "      <td>3</td>\n",
       "    </tr>\n",
       "    <tr>\n",
       "      <th>int64</th>\n",
       "      <td>10</td>\n",
       "    </tr>\n",
       "    <tr>\n",
       "      <th>float64</th>\n",
       "      <td>15</td>\n",
       "    </tr>\n",
       "    <tr>\n",
       "      <th>object</th>\n",
       "      <td>17</td>\n",
       "    </tr>\n",
       "  </tbody>\n",
       "</table>\n",
       "</div>"
      ],
      "text/plain": [
       "            ColumnName\n",
       "ColumnType            \n",
       "bool                 3\n",
       "int64               10\n",
       "float64             15\n",
       "object              17"
      ]
     },
     "execution_count": 42,
     "metadata": {},
     "output_type": "execute_result"
    }
   ],
   "source": [
    "data_types.groupby(\"ColumnType\").count()"
   ]
  },
  {
   "cell_type": "code",
   "execution_count": 43,
   "metadata": {},
   "outputs": [],
   "source": [
    "# Missing Values Stat\n",
    "# Number of missing values in each column\n",
    "missing_df= df.isna().sum(axis=0).reset_index() \n",
    "missing_df.columns = ['column_name', 'missing_count']\n",
    "missing_df['missing_ratio'] = missing_df['missing_count'] / df.shape[0]"
   ]
  },
  {
   "cell_type": "code",
   "execution_count": 44,
   "metadata": {},
   "outputs": [
    {
     "data": {
      "text/html": [
       "<div>\n",
       "<style scoped>\n",
       "    .dataframe tbody tr th:only-of-type {\n",
       "        vertical-align: middle;\n",
       "    }\n",
       "\n",
       "    .dataframe tbody tr th {\n",
       "        vertical-align: top;\n",
       "    }\n",
       "\n",
       "    .dataframe thead th {\n",
       "        text-align: right;\n",
       "    }\n",
       "</style>\n",
       "<table border=\"1\" class=\"dataframe\">\n",
       "  <thead>\n",
       "    <tr style=\"text-align: right;\">\n",
       "      <th></th>\n",
       "      <th>column_name</th>\n",
       "      <th>missing_count</th>\n",
       "      <th>missing_ratio</th>\n",
       "    </tr>\n",
       "  </thead>\n",
       "  <tbody>\n",
       "    <tr>\n",
       "      <th>21</th>\n",
       "      <td>r.in_reply_to_status_id</td>\n",
       "      <td>9575</td>\n",
       "      <td>0.956735</td>\n",
       "    </tr>\n",
       "    <tr>\n",
       "      <th>20</th>\n",
       "      <td>r.in_reply_to_screen_name</td>\n",
       "      <td>9498</td>\n",
       "      <td>0.949041</td>\n",
       "    </tr>\n",
       "    <tr>\n",
       "      <th>22</th>\n",
       "      <td>r.in_reply_to_user_id</td>\n",
       "      <td>9498</td>\n",
       "      <td>0.949041</td>\n",
       "    </tr>\n",
       "    <tr>\n",
       "      <th>28</th>\n",
       "      <td>r.text</td>\n",
       "      <td>8632</td>\n",
       "      <td>0.862510</td>\n",
       "    </tr>\n",
       "    <tr>\n",
       "      <th>26</th>\n",
       "      <td>r.sid</td>\n",
       "      <td>8632</td>\n",
       "      <td>0.862510</td>\n",
       "    </tr>\n",
       "    <tr>\n",
       "      <th>12</th>\n",
       "      <td>r.created_at_in_seconds</td>\n",
       "      <td>8632</td>\n",
       "      <td>0.862510</td>\n",
       "    </tr>\n",
       "    <tr>\n",
       "      <th>14</th>\n",
       "      <td>r.favorite_count</td>\n",
       "      <td>8632</td>\n",
       "      <td>0.862510</td>\n",
       "    </tr>\n",
       "    <tr>\n",
       "      <th>15</th>\n",
       "      <td>r.favorited</td>\n",
       "      <td>8632</td>\n",
       "      <td>0.862510</td>\n",
       "    </tr>\n",
       "    <tr>\n",
       "      <th>24</th>\n",
       "      <td>r.retweet_count</td>\n",
       "      <td>8632</td>\n",
       "      <td>0.862510</td>\n",
       "    </tr>\n",
       "    <tr>\n",
       "      <th>9</th>\n",
       "      <td>in_reply_to_status_id</td>\n",
       "      <td>8616</td>\n",
       "      <td>0.860911</td>\n",
       "    </tr>\n",
       "    <tr>\n",
       "      <th>23</th>\n",
       "      <td>r.location</td>\n",
       "      <td>7517</td>\n",
       "      <td>0.751099</td>\n",
       "    </tr>\n",
       "    <tr>\n",
       "      <th>32</th>\n",
       "      <td>r.utc_offset</td>\n",
       "      <td>7458</td>\n",
       "      <td>0.745204</td>\n",
       "    </tr>\n",
       "    <tr>\n",
       "      <th>29</th>\n",
       "      <td>r.time_zone</td>\n",
       "      <td>7458</td>\n",
       "      <td>0.745204</td>\n",
       "    </tr>\n",
       "    <tr>\n",
       "      <th>13</th>\n",
       "      <td>r.description</td>\n",
       "      <td>7318</td>\n",
       "      <td>0.731215</td>\n",
       "    </tr>\n",
       "    <tr>\n",
       "      <th>31</th>\n",
       "      <td>r.user.name</td>\n",
       "      <td>7257</td>\n",
       "      <td>0.725120</td>\n",
       "    </tr>\n",
       "    <tr>\n",
       "      <th>30</th>\n",
       "      <td>r.uid</td>\n",
       "      <td>7257</td>\n",
       "      <td>0.725120</td>\n",
       "    </tr>\n",
       "    <tr>\n",
       "      <th>27</th>\n",
       "      <td>r.statuses_count</td>\n",
       "      <td>7257</td>\n",
       "      <td>0.725120</td>\n",
       "    </tr>\n",
       "    <tr>\n",
       "      <th>33</th>\n",
       "      <td>r.verified</td>\n",
       "      <td>7257</td>\n",
       "      <td>0.725120</td>\n",
       "    </tr>\n",
       "    <tr>\n",
       "      <th>25</th>\n",
       "      <td>r.screen_name</td>\n",
       "      <td>7257</td>\n",
       "      <td>0.725120</td>\n",
       "    </tr>\n",
       "    <tr>\n",
       "      <th>17</th>\n",
       "      <td>r.followers_count</td>\n",
       "      <td>7257</td>\n",
       "      <td>0.725120</td>\n",
       "    </tr>\n",
       "    <tr>\n",
       "      <th>19</th>\n",
       "      <td>r.geo_enabled</td>\n",
       "      <td>7257</td>\n",
       "      <td>0.725120</td>\n",
       "    </tr>\n",
       "    <tr>\n",
       "      <th>18</th>\n",
       "      <td>r.friends_count</td>\n",
       "      <td>7257</td>\n",
       "      <td>0.725120</td>\n",
       "    </tr>\n",
       "    <tr>\n",
       "      <th>16</th>\n",
       "      <td>r.favourites_count</td>\n",
       "      <td>7257</td>\n",
       "      <td>0.725120</td>\n",
       "    </tr>\n",
       "    <tr>\n",
       "      <th>10</th>\n",
       "      <td>in_reply_to_user_id</td>\n",
       "      <td>7239</td>\n",
       "      <td>0.723321</td>\n",
       "    </tr>\n",
       "    <tr>\n",
       "      <th>8</th>\n",
       "      <td>in_reply_to_screen_name</td>\n",
       "      <td>7239</td>\n",
       "      <td>0.723321</td>\n",
       "    </tr>\n",
       "    <tr>\n",
       "      <th>11</th>\n",
       "      <td>location</td>\n",
       "      <td>1545</td>\n",
       "      <td>0.154376</td>\n",
       "    </tr>\n",
       "    <tr>\n",
       "      <th>39</th>\n",
       "      <td>time_zone</td>\n",
       "      <td>1494</td>\n",
       "      <td>0.149281</td>\n",
       "    </tr>\n",
       "    <tr>\n",
       "      <th>42</th>\n",
       "      <td>utc_offset</td>\n",
       "      <td>1494</td>\n",
       "      <td>0.149281</td>\n",
       "    </tr>\n",
       "    <tr>\n",
       "      <th>1</th>\n",
       "      <td>description</td>\n",
       "      <td>566</td>\n",
       "      <td>0.056555</td>\n",
       "    </tr>\n",
       "    <tr>\n",
       "      <th>36</th>\n",
       "      <td>sid</td>\n",
       "      <td>0</td>\n",
       "      <td>0.000000</td>\n",
       "    </tr>\n",
       "    <tr>\n",
       "      <th>38</th>\n",
       "      <td>text</td>\n",
       "      <td>0</td>\n",
       "      <td>0.000000</td>\n",
       "    </tr>\n",
       "    <tr>\n",
       "      <th>40</th>\n",
       "      <td>uid</td>\n",
       "      <td>0</td>\n",
       "      <td>0.000000</td>\n",
       "    </tr>\n",
       "    <tr>\n",
       "      <th>41</th>\n",
       "      <td>user.name</td>\n",
       "      <td>0</td>\n",
       "      <td>0.000000</td>\n",
       "    </tr>\n",
       "    <tr>\n",
       "      <th>43</th>\n",
       "      <td>verified</td>\n",
       "      <td>0</td>\n",
       "      <td>0.000000</td>\n",
       "    </tr>\n",
       "    <tr>\n",
       "      <th>37</th>\n",
       "      <td>statuses_count</td>\n",
       "      <td>0</td>\n",
       "      <td>0.000000</td>\n",
       "    </tr>\n",
       "    <tr>\n",
       "      <th>0</th>\n",
       "      <td>created_at_in_seconds</td>\n",
       "      <td>0</td>\n",
       "      <td>0.000000</td>\n",
       "    </tr>\n",
       "    <tr>\n",
       "      <th>35</th>\n",
       "      <td>screen_name</td>\n",
       "      <td>0</td>\n",
       "      <td>0.000000</td>\n",
       "    </tr>\n",
       "    <tr>\n",
       "      <th>34</th>\n",
       "      <td>retweet_count</td>\n",
       "      <td>0</td>\n",
       "      <td>0.000000</td>\n",
       "    </tr>\n",
       "    <tr>\n",
       "      <th>7</th>\n",
       "      <td>geo_enabled</td>\n",
       "      <td>0</td>\n",
       "      <td>0.000000</td>\n",
       "    </tr>\n",
       "    <tr>\n",
       "      <th>6</th>\n",
       "      <td>friends_count</td>\n",
       "      <td>0</td>\n",
       "      <td>0.000000</td>\n",
       "    </tr>\n",
       "    <tr>\n",
       "      <th>5</th>\n",
       "      <td>followers_count</td>\n",
       "      <td>0</td>\n",
       "      <td>0.000000</td>\n",
       "    </tr>\n",
       "    <tr>\n",
       "      <th>4</th>\n",
       "      <td>favourites_count</td>\n",
       "      <td>0</td>\n",
       "      <td>0.000000</td>\n",
       "    </tr>\n",
       "    <tr>\n",
       "      <th>3</th>\n",
       "      <td>favorited</td>\n",
       "      <td>0</td>\n",
       "      <td>0.000000</td>\n",
       "    </tr>\n",
       "    <tr>\n",
       "      <th>2</th>\n",
       "      <td>favorite_count</td>\n",
       "      <td>0</td>\n",
       "      <td>0.000000</td>\n",
       "    </tr>\n",
       "    <tr>\n",
       "      <th>44</th>\n",
       "      <td>trainingLabel</td>\n",
       "      <td>0</td>\n",
       "      <td>0.000000</td>\n",
       "    </tr>\n",
       "  </tbody>\n",
       "</table>\n",
       "</div>"
      ],
      "text/plain": [
       "                  column_name  missing_count  missing_ratio\n",
       "21    r.in_reply_to_status_id           9575       0.956735\n",
       "20  r.in_reply_to_screen_name           9498       0.949041\n",
       "22      r.in_reply_to_user_id           9498       0.949041\n",
       "28                     r.text           8632       0.862510\n",
       "26                      r.sid           8632       0.862510\n",
       "12    r.created_at_in_seconds           8632       0.862510\n",
       "14           r.favorite_count           8632       0.862510\n",
       "15                r.favorited           8632       0.862510\n",
       "24            r.retweet_count           8632       0.862510\n",
       "9       in_reply_to_status_id           8616       0.860911\n",
       "23                 r.location           7517       0.751099\n",
       "32               r.utc_offset           7458       0.745204\n",
       "29                r.time_zone           7458       0.745204\n",
       "13              r.description           7318       0.731215\n",
       "31                r.user.name           7257       0.725120\n",
       "30                      r.uid           7257       0.725120\n",
       "27           r.statuses_count           7257       0.725120\n",
       "33                 r.verified           7257       0.725120\n",
       "25              r.screen_name           7257       0.725120\n",
       "17          r.followers_count           7257       0.725120\n",
       "19              r.geo_enabled           7257       0.725120\n",
       "18            r.friends_count           7257       0.725120\n",
       "16         r.favourites_count           7257       0.725120\n",
       "10        in_reply_to_user_id           7239       0.723321\n",
       "8     in_reply_to_screen_name           7239       0.723321\n",
       "11                   location           1545       0.154376\n",
       "39                  time_zone           1494       0.149281\n",
       "42                 utc_offset           1494       0.149281\n",
       "1                 description            566       0.056555\n",
       "36                        sid              0       0.000000\n",
       "38                       text              0       0.000000\n",
       "40                        uid              0       0.000000\n",
       "41                  user.name              0       0.000000\n",
       "43                   verified              0       0.000000\n",
       "37             statuses_count              0       0.000000\n",
       "0       created_at_in_seconds              0       0.000000\n",
       "35                screen_name              0       0.000000\n",
       "34              retweet_count              0       0.000000\n",
       "7                 geo_enabled              0       0.000000\n",
       "6               friends_count              0       0.000000\n",
       "5             followers_count              0       0.000000\n",
       "4            favourites_count              0       0.000000\n",
       "3                   favorited              0       0.000000\n",
       "2              favorite_count              0       0.000000\n",
       "44              trainingLabel              0       0.000000"
      ]
     },
     "execution_count": 44,
     "metadata": {},
     "output_type": "execute_result"
    }
   ],
   "source": [
    "missing_df.sort_values('missing_ratio',ascending=False)"
   ]
  },
  {
   "cell_type": "code",
   "execution_count": 45,
   "metadata": {},
   "outputs": [],
   "source": [
    "missing_df = missing_df.loc[missing_df['missing_count']>0]"
   ]
  },
  {
   "cell_type": "code",
   "execution_count": 46,
   "metadata": {},
   "outputs": [],
   "source": [
    "missing_df = missing_df.sort_values(by='missing_ratio').reset_index()"
   ]
  },
  {
   "cell_type": "code",
   "execution_count": 47,
   "metadata": {},
   "outputs": [],
   "source": [
    "ind = np.arange(missing_df.shape[0])"
   ]
  },
  {
   "cell_type": "code",
   "execution_count": 48,
   "metadata": {},
   "outputs": [
    {
     "data": {
      "image/png": "[encoded data removed]",
      "text/plain": [
       "<Figure size 720x720 with 1 Axes>"
      ]
     },
     "metadata": {
      "needs_background": "light"
     },
     "output_type": "display_data"
    }
   ],
   "source": [
    "width = 0.9\n",
    "fig, ax = plt.subplots(figsize=(10,10))\n",
    "rects = ax.barh(ind, missing_df.missing_count.values)\n",
    "ax.set_yticks(ind)\n",
    "ax.set_yticklabels(missing_df.column_name.values, rotation='horizontal')\n",
    "ax.set_xlabel(\"Count of missing values\")\n",
    "ax.set_title(\"Number of missing values in each column\")\n",
    "plt.show()"
   ]
  },
  {
   "cell_type": "code",
   "execution_count": 49,
   "metadata": {},
   "outputs": [],
   "source": [
    "missing_columns = missing_df['column_name'].values"
   ]
  },
  {
   "cell_type": "code",
   "execution_count": 50,
   "metadata": {},
   "outputs": [],
   "source": [
    "# If value is missing,\n",
    "#   put \"missing\" token for object columns\n",
    "#   put 0 for numeric columns\n",
    "\n",
    "for col in missing_columns:\n",
    "    #print(col,df[col].dtype)\n",
    "    if df[col].dtype == 'object':\n",
    "        df[col] = df[col].fillna('missing')\n",
    "    if df[col].dtype == 'float64':\n",
    "        df[col] = df[col].fillna(0)"
   ]
  },
  {
   "cell_type": "code",
   "execution_count": 51,
   "metadata": {},
   "outputs": [
    {
     "data": {
      "text/html": [
       "<div>\n",
       "<style scoped>\n",
       "    .dataframe tbody tr th:only-of-type {\n",
       "        vertical-align: middle;\n",
       "    }\n",
       "\n",
       "    .dataframe tbody tr th {\n",
       "        vertical-align: top;\n",
       "    }\n",
       "\n",
       "    .dataframe thead th {\n",
       "        text-align: right;\n",
       "    }\n",
       "</style>\n",
       "<table border=\"1\" class=\"dataframe\">\n",
       "  <thead>\n",
       "    <tr style=\"text-align: right;\">\n",
       "      <th></th>\n",
       "      <th>created_at_in_seconds</th>\n",
       "      <th>description</th>\n",
       "      <th>favorite_count</th>\n",
       "      <th>favorited</th>\n",
       "      <th>favourites_count</th>\n",
       "      <th>followers_count</th>\n",
       "      <th>friends_count</th>\n",
       "      <th>geo_enabled</th>\n",
       "      <th>in_reply_to_screen_name</th>\n",
       "      <th>in_reply_to_status_id</th>\n",
       "      <th>...</th>\n",
       "      <th>screen_name</th>\n",
       "      <th>sid</th>\n",
       "      <th>statuses_count</th>\n",
       "      <th>text</th>\n",
       "      <th>time_zone</th>\n",
       "      <th>uid</th>\n",
       "      <th>user.name</th>\n",
       "      <th>utc_offset</th>\n",
       "      <th>verified</th>\n",
       "      <th>trainingLabel</th>\n",
       "    </tr>\n",
       "  </thead>\n",
       "  <tbody>\n",
       "    <tr>\n",
       "      <th>0</th>\n",
       "      <td>1410411075</td>\n",
       "      <td>GM for @theCUBE, the Leading Interview format ...</td>\n",
       "      <td>0</td>\n",
       "      <td>False</td>\n",
       "      <td>1760</td>\n",
       "      <td>1265</td>\n",
       "      <td>2001</td>\n",
       "      <td>True</td>\n",
       "      <td>JeffBezosAmazon</td>\n",
       "      <td>0.0</td>\n",
       "      <td>...</td>\n",
       "      <td>JeffFrick</td>\n",
       "      <td>509927125139202048</td>\n",
       "      <td>13506</td>\n",
       "      <td>@JeffBezosAmazon @amazon @awscloud -&gt; Jeff get...</td>\n",
       "      <td>Pacific Time (US &amp; Canada)</td>\n",
       "      <td>19747132</td>\n",
       "      <td>Jeff Frick</td>\n",
       "      <td>-25200.0</td>\n",
       "      <td>False</td>\n",
       "      <td>0</td>\n",
       "    </tr>\n",
       "    <tr>\n",
       "      <th>1</th>\n",
       "      <td>1410418911</td>\n",
       "      <td>Everything is Content covers tech #conferences...</td>\n",
       "      <td>0</td>\n",
       "      <td>False</td>\n",
       "      <td>22</td>\n",
       "      <td>183</td>\n",
       "      <td>154</td>\n",
       "      <td>True</td>\n",
       "      <td>missing</td>\n",
       "      <td>0.0</td>\n",
       "      <td>...</td>\n",
       "      <td>contentpurveyor</td>\n",
       "      <td>509959993781919744</td>\n",
       "      <td>1816</td>\n",
       "      <td>Visit @awscloud Sept 11-16 #Amsterdam to learn...</td>\n",
       "      <td>Eastern Time (US &amp; Canada)</td>\n",
       "      <td>2465523308</td>\n",
       "      <td>ContentPurveyor</td>\n",
       "      <td>-14400.0</td>\n",
       "      <td>False</td>\n",
       "      <td>1</td>\n",
       "    </tr>\n",
       "    <tr>\n",
       "      <th>2</th>\n",
       "      <td>1410422657</td>\n",
       "      <td>Founder CEO @mailcloud, previously @zaggora. G...</td>\n",
       "      <td>6</td>\n",
       "      <td>False</td>\n",
       "      <td>4870</td>\n",
       "      <td>3733</td>\n",
       "      <td>301</td>\n",
       "      <td>True</td>\n",
       "      <td>missing</td>\n",
       "      <td>0.0</td>\n",
       "      <td>...</td>\n",
       "      <td>malcolmbell</td>\n",
       "      <td>509975703421739008</td>\n",
       "      <td>4244</td>\n",
       "      <td>Super excited to take this selfie at #seedcamp...</td>\n",
       "      <td>missing</td>\n",
       "      <td>135183746</td>\n",
       "      <td>Malcolm Bell</td>\n",
       "      <td>0.0</td>\n",
       "      <td>False</td>\n",
       "      <td>0</td>\n",
       "    </tr>\n",
       "    <tr>\n",
       "      <th>3</th>\n",
       "      <td>1410424594</td>\n",
       "      <td>Accelerating startups from prototype to IPO wi...</td>\n",
       "      <td>7</td>\n",
       "      <td>False</td>\n",
       "      <td>2393</td>\n",
       "      <td>50783</td>\n",
       "      <td>3259</td>\n",
       "      <td>True</td>\n",
       "      <td>missing</td>\n",
       "      <td>0.0</td>\n",
       "      <td>...</td>\n",
       "      <td>seedcamp</td>\n",
       "      <td>509983830275407872</td>\n",
       "      <td>5934</td>\n",
       "      <td>The stage is set at @awscloud in Holburn for o...</td>\n",
       "      <td>London</td>\n",
       "      <td>15317462</td>\n",
       "      <td>seedcamp</td>\n",
       "      <td>0.0</td>\n",
       "      <td>False</td>\n",
       "      <td>0</td>\n",
       "    </tr>\n",
       "    <tr>\n",
       "      <th>4</th>\n",
       "      <td>1410425306</td>\n",
       "      <td>Online Investment Manager</td>\n",
       "      <td>0</td>\n",
       "      <td>False</td>\n",
       "      <td>50</td>\n",
       "      <td>86</td>\n",
       "      <td>237</td>\n",
       "      <td>False</td>\n",
       "      <td>missing</td>\n",
       "      <td>0.0</td>\n",
       "      <td>...</td>\n",
       "      <td>ZenAssets</td>\n",
       "      <td>509986815164813312</td>\n",
       "      <td>120</td>\n",
       "      <td>RT @seedcamp The stage is set at @awscloud in ...</td>\n",
       "      <td>Kyiv</td>\n",
       "      <td>2207428117</td>\n",
       "      <td>Zen Assets</td>\n",
       "      <td>7200.0</td>\n",
       "      <td>False</td>\n",
       "      <td>0</td>\n",
       "    </tr>\n",
       "  </tbody>\n",
       "</table>\n",
       "<p>5 rows × 45 columns</p>\n",
       "</div>"
      ],
      "text/plain": [
       "   created_at_in_seconds                                        description  \\\n",
       "0             1410411075  GM for @theCUBE, the Leading Interview format ...   \n",
       "1             1410418911  Everything is Content covers tech #conferences...   \n",
       "2             1410422657  Founder CEO @mailcloud, previously @zaggora. G...   \n",
       "3             1410424594  Accelerating startups from prototype to IPO wi...   \n",
       "4             1410425306                          Online Investment Manager   \n",
       "\n",
       "   favorite_count  favorited  favourites_count  followers_count  \\\n",
       "0               0      False              1760             1265   \n",
       "1               0      False                22              183   \n",
       "2               6      False              4870             3733   \n",
       "3               7      False              2393            50783   \n",
       "4               0      False                50               86   \n",
       "\n",
       "   friends_count  geo_enabled in_reply_to_screen_name  in_reply_to_status_id  \\\n",
       "0           2001         True         JeffBezosAmazon                    0.0   \n",
       "1            154         True                 missing                    0.0   \n",
       "2            301         True                 missing                    0.0   \n",
       "3           3259         True                 missing                    0.0   \n",
       "4            237        False                 missing                    0.0   \n",
       "\n",
       "       ...           screen_name                 sid  statuses_count  \\\n",
       "0      ...             JeffFrick  509927125139202048           13506   \n",
       "1      ...       contentpurveyor  509959993781919744            1816   \n",
       "2      ...           malcolmbell  509975703421739008            4244   \n",
       "3      ...              seedcamp  509983830275407872            5934   \n",
       "4      ...             ZenAssets  509986815164813312             120   \n",
       "\n",
       "                                                text  \\\n",
       "0  @JeffBezosAmazon @amazon @awscloud -> Jeff get...   \n",
       "1  Visit @awscloud Sept 11-16 #Amsterdam to learn...   \n",
       "2  Super excited to take this selfie at #seedcamp...   \n",
       "3  The stage is set at @awscloud in Holburn for o...   \n",
       "4  RT @seedcamp The stage is set at @awscloud in ...   \n",
       "\n",
       "                    time_zone         uid        user.name  utc_offset  \\\n",
       "0  Pacific Time (US & Canada)    19747132       Jeff Frick    -25200.0   \n",
       "1  Eastern Time (US & Canada)  2465523308  ContentPurveyor    -14400.0   \n",
       "2                     missing   135183746     Malcolm Bell         0.0   \n",
       "3                      London    15317462         seedcamp         0.0   \n",
       "4                        Kyiv  2207428117       Zen Assets      7200.0   \n",
       "\n",
       "   verified trainingLabel  \n",
       "0     False             0  \n",
       "1     False             1  \n",
       "2     False             0  \n",
       "3     False             0  \n",
       "4     False             0  \n",
       "\n",
       "[5 rows x 45 columns]"
      ]
     },
     "execution_count": 51,
     "metadata": {},
     "output_type": "execute_result"
    }
   ],
   "source": [
    "df.head(5)"
   ]
  },
  {
   "cell_type": "code",
   "execution_count": 52,
   "metadata": {},
   "outputs": [],
   "source": [
    "#df.to_csv('aml_training_dataset_cleaned.csv',index=False)"
   ]
  },
  {
   "cell_type": "code",
   "execution_count": 54,
   "metadata": {},
   "outputs": [],
   "source": [
    "df = df[['text','trainingLabel']]"
   ]
  },
  {
   "cell_type": "code",
   "execution_count": 58,
   "metadata": {},
   "outputs": [
    {
     "data": {
      "text/plain": [
       "0    8587\n",
       "1    1421\n",
       "Name: trainingLabel, dtype: int64"
      ]
     },
     "execution_count": 58,
     "metadata": {},
     "output_type": "execute_result"
    }
   ],
   "source": [
    "df.trainingLabel.value_counts()"
   ]
  },
  {
   "cell_type": "code",
   "execution_count": 59,
   "metadata": {},
   "outputs": [],
   "source": [
    "# Training = 70% of the data\n",
    "# Validation = 30% of the data\n",
    "# Randomize the datset\n",
    "np.random.seed(5)\n",
    "l = list(df.index)\n",
    "np.random.shuffle(l)\n",
    "df = df.iloc[l]"
   ]
  },
  {
   "cell_type": "code",
   "execution_count": 60,
   "metadata": {},
   "outputs": [],
   "source": [
    "rows = df.shape[0]\n",
    "train = int(.7 * rows)\n",
    "test = rows - train"
   ]
  },
  {
   "cell_type": "code",
   "execution_count": 61,
   "metadata": {},
   "outputs": [
    {
     "data": {
      "text/plain": [
       "(10008, 7005, 3003)"
      ]
     },
     "execution_count": 61,
     "metadata": {},
     "output_type": "execute_result"
    }
   ],
   "source": [
    "rows, train, test"
   ]
  },
  {
   "cell_type": "code",
   "execution_count": 65,
   "metadata": {},
   "outputs": [],
   "source": [
    "df_train = df[:train]\n",
    "df_test = df[train:]"
   ]
  },
  {
   "cell_type": "code",
   "execution_count": 66,
   "metadata": {},
   "outputs": [
    {
     "data": {
      "text/plain": [
       "0    5994\n",
       "1    1011\n",
       "Name: trainingLabel, dtype: int64"
      ]
     },
     "execution_count": 66,
     "metadata": {},
     "output_type": "execute_result"
    }
   ],
   "source": [
    "df_train.trainingLabel.value_counts()"
   ]
  },
  {
   "cell_type": "code",
   "execution_count": 67,
   "metadata": {},
   "outputs": [
    {
     "data": {
      "text/plain": [
       "0    2593\n",
       "1     410\n",
       "Name: trainingLabel, dtype: int64"
      ]
     },
     "execution_count": 67,
     "metadata": {},
     "output_type": "execute_result"
    }
   ],
   "source": [
    "df_test.trainingLabel.value_counts()"
   ]
  },
  {
   "cell_type": "code",
   "execution_count": 71,
   "metadata": {},
   "outputs": [
    {
     "data": {
      "text/plain": [
       "Index(['text', 'trainingLabel'], dtype='object')"
      ]
     },
     "execution_count": 71,
     "metadata": {},
     "output_type": "execute_result"
    }
   ],
   "source": [
    "df_train.columns"
   ]
  },
  {
   "cell_type": "code",
   "execution_count": 72,
   "metadata": {},
   "outputs": [],
   "source": [
    "df_train.to_csv('twitter_train.csv',\n",
    "                index=False,\n",
    "                header=False,\n",
    "                columns=['trainingLabel','text'])"
   ]
  },
  {
   "cell_type": "code",
   "execution_count": 74,
   "metadata": {},
   "outputs": [],
   "source": [
    "df_test.to_csv('twitter_test.csv',\n",
    "                index=False,\n",
    "                header=False,\n",
    "                columns=['trainingLabel','text'])"
   ]
  },
  {
   "cell_type": "code",
   "execution_count": null,
   "metadata": {},
   "outputs": [],
   "source": []
  }
 ],
 "metadata": {
  "kernelspec": {
   "display_name": "Python 3",
   "language": "python",
   "name": "python3"
  },
  "language_info": {
   "codemirror_mode": {
    "name": "ipython",
    "version": 3
   },
   "file_extension": ".py",
   "mimetype": "text/x-python",
   "name": "python",
   "nbconvert_exporter": "python",
   "pygments_lexer": "ipython3",
   "version": "3.7.1"
  }
 },
 "nbformat": 4,
 "nbformat_minor": 1
}
