{
 "cells": [
  {
   "cell_type": "markdown",
   "metadata": {},
   "source": [
    "# TensorFlow script mode training and serving\n",
    "###  Modified From: \n",
    "#### Sagemaker Python SDK Examples: tensorflow_script_mode_training_and_serving.ipynb\n",
    "https://github.com/awslabs/amazon-sagemaker-examples/blob/master/sagemaker-python-sdk/tensorflow_script_mode_training_and_serving/tensorflow_script_mode_training_and_serving.ipynb\n",
    "\n",
    "Following modifications were made:  \n",
    "1. Incorporated scripts for local mode hosting  \n",
    "2. Added Train and Test Channels  \n",
    "3. Visualize results (confusion matrix and reports)  \n",
    "4. Added steps to deploy using model artifacts stored in S3  \n",
    "5. Iris model training (iris.py)\n",
    "\n",
    "Script mode is a training script format for TensorFlow that lets you execute any TensorFlow training script in SageMaker with minimal modification. The [SageMaker Python SDK](https://github.com/aws/sagemaker-python-sdk) handles transferring your script to a SageMaker training instance. On the training instance, SageMaker's native TensorFlow support sets up training-related environment variables and executes your training script. In this tutorial, we use the SageMaker Python SDK to launch a training job and deploy the trained model.\n",
    "\n",
    "Script mode supports training with a Python script, a Python module, or a shell script.\n"
   ]
  },
  {
   "cell_type": "markdown",
   "metadata": {},
   "source": [
    "# Set up the environment\n",
    "\n",
    "Let's start by setting up the environment:"
   ]
  },
  {
   "cell_type": "markdown",
   "metadata": {},
   "source": [
    "### Local Mode Execution - requires docker compose configured\n",
    "#### The below setup script is from AWS SageMaker Python SDK Examples : tf-eager-sm-scriptmode.ipynb"
   ]
  },
  {
   "cell_type": "code",
   "execution_count": 1,
   "metadata": {},
   "outputs": [
    {
     "name": "stdout",
     "output_type": "stream",
     "text": [
      "SageMaker instance route table setup is ok. We are good to go.\r\n",
      "SageMaker instance routing for Docker is ok. We are good to go!\r\n"
     ]
    }
   ],
   "source": [
    "!/bin/bash ./setup.sh"
   ]
  },
  {
   "cell_type": "code",
   "execution_count": 2,
   "metadata": {},
   "outputs": [],
   "source": [
    "import os\n",
    "import sagemaker\n",
    "from sagemaker import get_execution_role\n",
    "import pandas as pd\n",
    "import numpy as np\n",
    "\n",
    "sagemaker_session = sagemaker.Session()\n",
    "\n",
    "role = get_execution_role()\n",
    "region = sagemaker_session.boto_session.region_name"
   ]
  },
  {
   "cell_type": "markdown",
   "metadata": {},
   "source": [
    "## Training Data"
   ]
  },
  {
   "cell_type": "code",
   "execution_count": 3,
   "metadata": {},
   "outputs": [],
   "source": [
    "column_list_file = 'iris_train_column_list.txt'\n",
    "train_file = 'iris_train.csv'\n",
    "test_file = 'iris_validation.csv'\n",
    "\n",
    "columns = ''\n",
    "with open(column_list_file,'r') as f:\n",
    "    columns = f.read().split(',')"
   ]
  },
  {
   "cell_type": "code",
   "execution_count": 4,
   "metadata": {},
   "outputs": [],
   "source": [
    "# Specify your bucket name\n",
    "bucket_name = 'chandra-ml-sagemaker'\n",
    "\n",
    "training_folder = r'iris/train'\n",
    "test_folder = r'iris/test'\n",
    "model_folder = r'iris/model/'\n",
    "\n",
    "training_data_uri = r's3://' + bucket_name + r'/' + training_folder\n",
    "testing_data_uri = r's3://' + bucket_name + r'/' + test_folder\n",
    "model_data_uri = r's3://' + bucket_name + r'/' + model_folder"
   ]
  },
  {
   "cell_type": "code",
   "execution_count": 5,
   "metadata": {},
   "outputs": [
    {
     "data": {
      "text/plain": [
       "('s3://chandra-ml-sagemaker/iris/train',\n",
       " 's3://chandra-ml-sagemaker/iris/test',\n",
       " 's3://chandra-ml-sagemaker/iris/model/')"
      ]
     },
     "execution_count": 5,
     "metadata": {},
     "output_type": "execute_result"
    }
   ],
   "source": [
    "training_data_uri,testing_data_uri,model_data_uri"
   ]
  },
  {
   "cell_type": "code",
   "execution_count": 6,
   "metadata": {},
   "outputs": [
    {
     "data": {
      "text/plain": [
       "'s3://chandra-ml-sagemaker/iris/train/iris_train.csv'"
      ]
     },
     "execution_count": 6,
     "metadata": {},
     "output_type": "execute_result"
    }
   ],
   "source": [
    "sagemaker_session.upload_data(train_file,\n",
    "                              bucket=bucket_name, \n",
    "                              key_prefix=training_folder)"
   ]
  },
  {
   "cell_type": "code",
   "execution_count": 7,
   "metadata": {},
   "outputs": [
    {
     "data": {
      "text/plain": [
       "'s3://chandra-ml-sagemaker/iris/test/iris_validation.csv'"
      ]
     },
     "execution_count": 7,
     "metadata": {},
     "output_type": "execute_result"
    }
   ],
   "source": [
    "sagemaker_session.upload_data(test_file, \n",
    "                              bucket=bucket_name, \n",
    "                              key_prefix=test_folder)"
   ]
  },
  {
   "cell_type": "markdown",
   "metadata": {},
   "source": [
    "# Construct a script for distributed training\n",
    "\n",
    "This tutorial's training script was adapted from TensorFlow's official [CNN MNIST example](https://github.com/tensorflow/tensorflow/blob/master/tensorflow/examples/tutorials/layers/cnn_mnist.py). We have modified it to handle the ``model_dir`` parameter passed in by SageMaker. This is an S3 path which can be used for data sharing during distributed training and checkpointing and/or model persistence. We have also added an argument-parsing function to handle processing training-related variables.\n",
    "\n",
    "At the end of the training job we have added a step to export the trained model to the path stored in the environment variable ``SM_MODEL_DIR``, which always points to ``/opt/ml/model``. This is critical because SageMaker uploads all the model artifacts in this folder to S3 at end of training.\n",
    "\n",
    "Here is the entire script:"
   ]
  },
  {
   "cell_type": "code",
   "execution_count": 8,
   "metadata": {
    "scrolled": false
   },
   "outputs": [
    {
     "name": "stdout",
     "output_type": "stream",
     "text": [
      "\u001b[37m# Copyright 2019 Amazon.com, Inc. or its affiliates. All Rights Reserved.\u001b[39;49;00m\n",
      "\u001b[37m#\u001b[39;49;00m\n",
      "\u001b[37m# Licensed under the Apache License, Version 2.0 (the \"License\"). You\u001b[39;49;00m\n",
      "\u001b[37m# may not use this file except in compliance with the License. A copy of\u001b[39;49;00m\n",
      "\u001b[37m# the License is located at\u001b[39;49;00m\n",
      "\u001b[37m#\u001b[39;49;00m\n",
      "\u001b[37m#     http://aws.amazon.com/apache2.0/\u001b[39;49;00m\n",
      "\u001b[37m#\u001b[39;49;00m\n",
      "\u001b[37m# or in the \"license\" file accompanying this file. This file is\u001b[39;49;00m\n",
      "\u001b[37m# distributed on an \"AS IS\" BASIS, WITHOUT WARRANTIES OR CONDITIONS OF\u001b[39;49;00m\n",
      "\u001b[37m# ANY KIND, either express or implied. See the License for the specific\u001b[39;49;00m\n",
      "\u001b[37m# language governing permissions and limitations under the License.import tensorflow as tf\u001b[39;49;00m\n",
      "\n",
      "\u001b[37m# Modified to train Iris model with early stopping - CL\u001b[39;49;00m\n",
      "\n",
      "\u001b[34mimport\u001b[39;49;00m \u001b[04m\u001b[36mos\u001b[39;49;00m\n",
      "\u001b[34mimport\u001b[39;49;00m \u001b[04m\u001b[36mnumpy\u001b[39;49;00m \u001b[34mas\u001b[39;49;00m \u001b[04m\u001b[36mnp\u001b[39;49;00m\n",
      "\u001b[34mimport\u001b[39;49;00m \u001b[04m\u001b[36mjson\u001b[39;49;00m\n",
      "\u001b[34mimport\u001b[39;49;00m \u001b[04m\u001b[36mpandas\u001b[39;49;00m \u001b[34mas\u001b[39;49;00m \u001b[04m\u001b[36mpd\u001b[39;49;00m\n",
      "\u001b[37m# Set random seed\u001b[39;49;00m\n",
      "np.random.seed(\u001b[34m0\u001b[39;49;00m)\n",
      "\n",
      "\u001b[34mimport\u001b[39;49;00m \u001b[04m\u001b[36mtensorflow\u001b[39;49;00m \u001b[34mas\u001b[39;49;00m \u001b[04m\u001b[36mtf\u001b[39;49;00m\n",
      "\u001b[34mimport\u001b[39;49;00m \u001b[04m\u001b[36margparse\u001b[39;49;00m\n",
      "\n",
      "\n",
      "\u001b[34mdef\u001b[39;49;00m \u001b[32mmodel\u001b[39;49;00m(x_train, y_train, x_test, y_test):\n",
      "    \u001b[33m\"\"\"Generate a simple model\"\"\"\u001b[39;49;00m\n",
      "    model = tf.keras.models.Sequential()    \n",
      "    model.add(tf.keras.layers.Dense(\u001b[34m32\u001b[39;49;00m, activation=tf.nn.relu, input_dim=x_train.shape[\u001b[34m1\u001b[39;49;00m]))\n",
      "    model.add(tf.keras.layers.Dense(\u001b[34m3\u001b[39;49;00m, activation=tf.nn.softmax))    \n",
      "    \n",
      "    model.compile(optimizer=\u001b[33m'\u001b[39;49;00m\u001b[33mrmsprop\u001b[39;49;00m\u001b[33m'\u001b[39;49;00m,\n",
      "                  loss=\u001b[33m'\u001b[39;49;00m\u001b[33msparse_categorical_crossentropy\u001b[39;49;00m\u001b[33m'\u001b[39;49;00m,\n",
      "                  metrics=[\u001b[33m'\u001b[39;49;00m\u001b[33maccuracy\u001b[39;49;00m\u001b[33m'\u001b[39;49;00m])\n",
      "    \n",
      "    early_stopping = tf.keras.callbacks.EarlyStopping(monitor=\u001b[33m'\u001b[39;49;00m\u001b[33mval_loss\u001b[39;49;00m\u001b[33m'\u001b[39;49;00m, mode=\u001b[33m'\u001b[39;49;00m\u001b[33mmin\u001b[39;49;00m\u001b[33m'\u001b[39;49;00m, verbose=\u001b[34m1\u001b[39;49;00m, patience=\u001b[34m5\u001b[39;49;00m)\n",
      "    \n",
      "    model.fit(x_train, y_train, \n",
      "              epochs=\u001b[34m300\u001b[39;49;00m,\n",
      "              batch_size=\u001b[34m32\u001b[39;49;00m, \n",
      "              validation_data=(x_test,y_test),\n",
      "              callbacks=[early_stopping])\n",
      "    \n",
      "    \u001b[37m#model.evaluate(x_test, y_test)\u001b[39;49;00m\n",
      "    \u001b[34mreturn\u001b[39;49;00m model\n",
      "\n",
      "\n",
      "\u001b[34mdef\u001b[39;49;00m \u001b[32m_load_data\u001b[39;49;00m(file_path, channel):\n",
      "    \u001b[37m# Take the set of files and read them all into a single pandas dataframe\u001b[39;49;00m\n",
      "    input_files = [ os.path.join(file_path, \u001b[36mfile\u001b[39;49;00m) \u001b[34mfor\u001b[39;49;00m \u001b[36mfile\u001b[39;49;00m \u001b[35min\u001b[39;49;00m os.listdir(file_path) ]\n",
      "    \u001b[34mif\u001b[39;49;00m \u001b[36mlen\u001b[39;49;00m(input_files) == \u001b[34m0\u001b[39;49;00m:\n",
      "        \u001b[34mraise\u001b[39;49;00m \u001b[36mValueError\u001b[39;49;00m((\u001b[33m'\u001b[39;49;00m\u001b[33mThere are no files in {}.\u001b[39;49;00m\u001b[33m\\n\u001b[39;49;00m\u001b[33m'\u001b[39;49;00m +\n",
      "                          \u001b[33m'\u001b[39;49;00m\u001b[33mThis usually indicates that the channel ({}) was incorrectly specified,\u001b[39;49;00m\u001b[33m\\n\u001b[39;49;00m\u001b[33m'\u001b[39;49;00m +\n",
      "                          \u001b[33m'\u001b[39;49;00m\u001b[33mthe data specification in S3 was incorrectly specified or the role specified\u001b[39;49;00m\u001b[33m\\n\u001b[39;49;00m\u001b[33m'\u001b[39;49;00m +\n",
      "                          \u001b[33m'\u001b[39;49;00m\u001b[33mdoes not have permission to access the data.\u001b[39;49;00m\u001b[33m'\u001b[39;49;00m).format(file_path, channel))\n",
      "        \n",
      "    raw_data = [ pd.read_csv(\u001b[36mfile\u001b[39;49;00m, header=\u001b[36mNone\u001b[39;49;00m, engine=\u001b[33m\"\u001b[39;49;00m\u001b[33mpython\u001b[39;49;00m\u001b[33m\"\u001b[39;49;00m) \u001b[34mfor\u001b[39;49;00m \u001b[36mfile\u001b[39;49;00m \u001b[35min\u001b[39;49;00m input_files ]\n",
      "    df = pd.concat(raw_data)  \n",
      "    \n",
      "    features = df.iloc[:,\u001b[34m1\u001b[39;49;00m:].values\n",
      "    label = df.iloc[:,\u001b[34m0\u001b[39;49;00m].values\n",
      "    \u001b[34mreturn\u001b[39;49;00m features, label\n",
      "\n",
      "\n",
      "\u001b[34mdef\u001b[39;49;00m \u001b[32m_parse_args\u001b[39;49;00m():\n",
      "    parser = argparse.ArgumentParser()\n",
      "\n",
      "    \u001b[37m# Data, model, and output directories\u001b[39;49;00m\n",
      "    \u001b[37m# model_dir is always passed in from SageMaker. By default this is a S3 path under the default bucket.\u001b[39;49;00m\n",
      "    parser.add_argument(\u001b[33m'\u001b[39;49;00m\u001b[33m--model_dir\u001b[39;49;00m\u001b[33m'\u001b[39;49;00m, \u001b[36mtype\u001b[39;49;00m=\u001b[36mstr\u001b[39;49;00m)\n",
      "    parser.add_argument(\u001b[33m'\u001b[39;49;00m\u001b[33m--sm-model-dir\u001b[39;49;00m\u001b[33m'\u001b[39;49;00m, \u001b[36mtype\u001b[39;49;00m=\u001b[36mstr\u001b[39;49;00m, default=os.environ.get(\u001b[33m'\u001b[39;49;00m\u001b[33mSM_MODEL_DIR\u001b[39;49;00m\u001b[33m'\u001b[39;49;00m))\n",
      "    parser.add_argument(\u001b[33m'\u001b[39;49;00m\u001b[33m--train\u001b[39;49;00m\u001b[33m'\u001b[39;49;00m, \u001b[36mtype\u001b[39;49;00m=\u001b[36mstr\u001b[39;49;00m, default=os.environ.get(\u001b[33m'\u001b[39;49;00m\u001b[33mSM_CHANNEL_TRAINING\u001b[39;49;00m\u001b[33m'\u001b[39;49;00m))\n",
      "    parser.add_argument(\u001b[33m'\u001b[39;49;00m\u001b[33m--test\u001b[39;49;00m\u001b[33m'\u001b[39;49;00m, \u001b[36mtype\u001b[39;49;00m=\u001b[36mstr\u001b[39;49;00m, default=os.environ.get(\u001b[33m'\u001b[39;49;00m\u001b[33mSM_CHANNEL_TESTING\u001b[39;49;00m\u001b[33m'\u001b[39;49;00m))\n",
      "    \n",
      "    parser.add_argument(\u001b[33m'\u001b[39;49;00m\u001b[33m--hosts\u001b[39;49;00m\u001b[33m'\u001b[39;49;00m, \u001b[36mtype\u001b[39;49;00m=\u001b[36mlist\u001b[39;49;00m, default=json.loads(os.environ.get(\u001b[33m'\u001b[39;49;00m\u001b[33mSM_HOSTS\u001b[39;49;00m\u001b[33m'\u001b[39;49;00m)))\n",
      "    parser.add_argument(\u001b[33m'\u001b[39;49;00m\u001b[33m--current-host\u001b[39;49;00m\u001b[33m'\u001b[39;49;00m, \u001b[36mtype\u001b[39;49;00m=\u001b[36mstr\u001b[39;49;00m, default=os.environ.get(\u001b[33m'\u001b[39;49;00m\u001b[33mSM_CURRENT_HOST\u001b[39;49;00m\u001b[33m'\u001b[39;49;00m))\n",
      "\n",
      "    \u001b[34mreturn\u001b[39;49;00m parser.parse_known_args()\n",
      "\n",
      "\n",
      "\u001b[34mif\u001b[39;49;00m \u001b[31m__name__\u001b[39;49;00m == \u001b[33m\"\u001b[39;49;00m\u001b[33m__main__\u001b[39;49;00m\u001b[33m\"\u001b[39;49;00m:\n",
      "    args, unknown = _parse_args()\n",
      "\n",
      "    train_data, train_labels = _load_data(args.train,\u001b[33m'\u001b[39;49;00m\u001b[33mtrain\u001b[39;49;00m\u001b[33m'\u001b[39;49;00m)\n",
      "    eval_data, eval_labels = _load_data(args.test,\u001b[33m'\u001b[39;49;00m\u001b[33mtest\u001b[39;49;00m\u001b[33m'\u001b[39;49;00m)\n",
      "\n",
      "    classifier = model(train_data, train_labels, eval_data, eval_labels)\n",
      "\n",
      "    \u001b[34mif\u001b[39;49;00m args.current_host == args.hosts[\u001b[34m0\u001b[39;49;00m]:\n",
      "        \u001b[37m# save model to an S3 directory with version number '00000001'\u001b[39;49;00m\n",
      "        classifier.save(os.path.join(args.sm_model_dir, \u001b[33m'\u001b[39;49;00m\u001b[33m000000001\u001b[39;49;00m\u001b[33m'\u001b[39;49;00m), \u001b[33m'\u001b[39;49;00m\u001b[33mmy_model.h5\u001b[39;49;00m\u001b[33m'\u001b[39;49;00m)\n"
     ]
    }
   ],
   "source": [
    "!pygmentize 'iris.py'"
   ]
  },
  {
   "cell_type": "markdown",
   "metadata": {},
   "source": [
    "# Create a training job using the `TensorFlow` estimator\n",
    "\n",
    "The `sagemaker.tensorflow.TensorFlow` estimator handles locating the script mode container, uploading your script to a S3 location and creating a SageMaker training job. Let's call out a couple important parameters here:\n",
    "\n",
    "* `py_version` is set to `'py3'` to indicate that we are using script mode since legacy mode supports only Python 2. Though Python 2 will be deprecated soon, you can use script mode with Python 2 by setting `py_version` to `'py2'` and `script_mode` to `True`.\n",
    "\n",
    "* `distributions` is used to configure the distributed training setup. It's required only if you are doing distributed training either across a cluster of instances or across multiple GPUs. Here we are using parameter servers as the distributed training schema. SageMaker training jobs run on homogeneous clusters. To make parameter server more performant in the SageMaker setup, we run a parameter server on every instance in the cluster, so there is no need to specify the number of parameter servers to launch. Script mode also supports distributed training with [Horovod](https://github.com/horovod/horovod). You can find the full documentation on how to configure `distributions` [here](https://github.com/aws/sagemaker-python-sdk/tree/master/src/sagemaker/tensorflow#distributed-training). \n",
    "\n"
   ]
  },
  {
   "cell_type": "code",
   "execution_count": 9,
   "metadata": {},
   "outputs": [],
   "source": [
    "from sagemaker.tensorflow import TensorFlow"
   ]
  },
  {
   "cell_type": "markdown",
   "metadata": {},
   "source": [
    "You can also initiate an estimator to train with TensorFlow 2.1 script. The only things that you will need to change are the script name and ``framewotk_version``"
   ]
  },
  {
   "cell_type": "code",
   "execution_count": 10,
   "metadata": {},
   "outputs": [],
   "source": [
    "#instance_type='ml.m5.xlarge'\n",
    "instance_type='local'"
   ]
  },
  {
   "cell_type": "code",
   "execution_count": 11,
   "metadata": {},
   "outputs": [],
   "source": [
    "# Local mode don't pass the role\n",
    "estimator = TensorFlow(entry_point='iris.py',\n",
    "                       role=role,\n",
    "                       train_instance_count=1,\n",
    "                       train_instance_type=instance_type,\n",
    "                       framework_version='2.1.0',\n",
    "                       py_version='py3',\n",
    "                       output_path=model_data_uri,\n",
    "                       base_job_name='tf-iris',                       \n",
    "                       distributions={'parameter_server': {'enabled': False}})"
   ]
  },
  {
   "cell_type": "markdown",
   "metadata": {},
   "source": [
    "## Calling ``fit``\n",
    "\n",
    "To start a training job, we call `estimator.fit(training_data_uri)`.\n",
    "\n",
    "An S3 location is used here as the input. `fit` creates a default channel named `'training'`, which points to this S3 location. In the training script we can then access the training data from the location stored in `SM_CHANNEL_TRAINING`. `fit` accepts a couple other types of input as well. See the API doc [here](https://sagemaker.readthedocs.io/en/stable/estimators.html#sagemaker.estimator.EstimatorBase.fit) for details.\n",
    "\n",
    "When training starts, the TensorFlow container executes mnist.py, passing `hyperparameters` and `model_dir` from the estimator as script arguments. Because we didn't define either in this example, no hyperparameters are passed, and `model_dir` defaults to `s3://<DEFAULT_BUCKET>/<TRAINING_JOB_NAME>`, so the script execution is as follows:\n",
    "```bash\n",
    "python mnist.py --model_dir s3://<DEFAULT_BUCKET>/<TRAINING_JOB_NAME>\n",
    "```\n",
    "When training is complete, the training job will upload the saved model for TensorFlow serving."
   ]
  },
  {
   "cell_type": "markdown",
   "metadata": {},
   "source": [
    "Calling fit to train a model with TensorFlow 2.1 scroipt."
   ]
  },
  {
   "cell_type": "code",
   "execution_count": 12,
   "metadata": {
    "scrolled": false
   },
   "outputs": [
    {
     "name": "stdout",
     "output_type": "stream",
     "text": [
      "Creating tmp0zcsjjvq_algo-1-m0nj4_1 ... \n",
      "\u001b[1BAttaching to tmp0zcsjjvq_algo-1-m0nj4_12mdone\u001b[0m\n",
      "\u001b[36malgo-1-m0nj4_1  |\u001b[0m 2020-03-26 00:00:56,816 sagemaker-containers INFO     Imported framework sagemaker_tensorflow_container.training\n",
      "\u001b[36malgo-1-m0nj4_1  |\u001b[0m 2020-03-26 00:00:56,823 sagemaker-containers INFO     No GPUs detected (normal if no gpus installed)\n",
      "\u001b[36malgo-1-m0nj4_1  |\u001b[0m 2020-03-26 00:00:56,997 sagemaker-containers INFO     No GPUs detected (normal if no gpus installed)\n",
      "\u001b[36malgo-1-m0nj4_1  |\u001b[0m 2020-03-26 00:00:57,011 sagemaker-containers INFO     No GPUs detected (normal if no gpus installed)\n",
      "\u001b[36malgo-1-m0nj4_1  |\u001b[0m 2020-03-26 00:00:57,026 sagemaker-containers INFO     No GPUs detected (normal if no gpus installed)\n",
      "\u001b[36malgo-1-m0nj4_1  |\u001b[0m 2020-03-26 00:00:57,036 sagemaker-containers INFO     Invoking user script\n",
      "\u001b[36malgo-1-m0nj4_1  |\u001b[0m \n",
      "\u001b[36malgo-1-m0nj4_1  |\u001b[0m Training Env:\n",
      "\u001b[36malgo-1-m0nj4_1  |\u001b[0m \n",
      "\u001b[36malgo-1-m0nj4_1  |\u001b[0m {\n",
      "\u001b[36malgo-1-m0nj4_1  |\u001b[0m     \"additional_framework_parameters\": {\n",
      "\u001b[36malgo-1-m0nj4_1  |\u001b[0m         \"sagemaker_parameter_server_enabled\": false\n",
      "\u001b[36malgo-1-m0nj4_1  |\u001b[0m     },\n",
      "\u001b[36malgo-1-m0nj4_1  |\u001b[0m     \"channel_input_dirs\": {\n",
      "\u001b[36malgo-1-m0nj4_1  |\u001b[0m         \"training\": \"/opt/ml/input/data/training\",\n",
      "\u001b[36malgo-1-m0nj4_1  |\u001b[0m         \"testing\": \"/opt/ml/input/data/testing\"\n",
      "\u001b[36malgo-1-m0nj4_1  |\u001b[0m     },\n",
      "\u001b[36malgo-1-m0nj4_1  |\u001b[0m     \"current_host\": \"algo-1-m0nj4\",\n",
      "\u001b[36malgo-1-m0nj4_1  |\u001b[0m     \"framework_module\": \"sagemaker_tensorflow_container.training:main\",\n",
      "\u001b[36malgo-1-m0nj4_1  |\u001b[0m     \"hosts\": [\n",
      "\u001b[36malgo-1-m0nj4_1  |\u001b[0m         \"algo-1-m0nj4\"\n",
      "\u001b[36malgo-1-m0nj4_1  |\u001b[0m     ],\n",
      "\u001b[36malgo-1-m0nj4_1  |\u001b[0m     \"hyperparameters\": {\n",
      "\u001b[36malgo-1-m0nj4_1  |\u001b[0m         \"model_dir\": \"s3://chandra-ml-sagemaker/iris/model/tf-iris-2020-03-25-23-59-57-112/model\"\n",
      "\u001b[36malgo-1-m0nj4_1  |\u001b[0m     },\n",
      "\u001b[36malgo-1-m0nj4_1  |\u001b[0m     \"input_config_dir\": \"/opt/ml/input/config\",\n",
      "\u001b[36malgo-1-m0nj4_1  |\u001b[0m     \"input_data_config\": {\n",
      "\u001b[36malgo-1-m0nj4_1  |\u001b[0m         \"training\": {\n",
      "\u001b[36malgo-1-m0nj4_1  |\u001b[0m             \"TrainingInputMode\": \"File\"\n",
      "\u001b[36malgo-1-m0nj4_1  |\u001b[0m         },\n",
      "\u001b[36malgo-1-m0nj4_1  |\u001b[0m         \"testing\": {\n",
      "\u001b[36malgo-1-m0nj4_1  |\u001b[0m             \"TrainingInputMode\": \"File\"\n",
      "\u001b[36malgo-1-m0nj4_1  |\u001b[0m         }\n",
      "\u001b[36malgo-1-m0nj4_1  |\u001b[0m     },\n",
      "\u001b[36malgo-1-m0nj4_1  |\u001b[0m     \"input_dir\": \"/opt/ml/input\",\n",
      "\u001b[36malgo-1-m0nj4_1  |\u001b[0m     \"is_master\": true,\n",
      "\u001b[36malgo-1-m0nj4_1  |\u001b[0m     \"job_name\": \"tf-iris-2020-03-25-23-59-57-112\",\n",
      "\u001b[36malgo-1-m0nj4_1  |\u001b[0m     \"log_level\": 20,\n",
      "\u001b[36malgo-1-m0nj4_1  |\u001b[0m     \"master_hostname\": \"algo-1-m0nj4\",\n",
      "\u001b[36malgo-1-m0nj4_1  |\u001b[0m     \"model_dir\": \"/opt/ml/model\",\n",
      "\u001b[36malgo-1-m0nj4_1  |\u001b[0m     \"module_dir\": \"s3://chandra-ml-sagemaker/tf-iris-2020-03-25-23-59-57-112/source/sourcedir.tar.gz\",\n",
      "\u001b[36malgo-1-m0nj4_1  |\u001b[0m     \"module_name\": \"iris\",\n",
      "\u001b[36malgo-1-m0nj4_1  |\u001b[0m     \"network_interface_name\": \"eth0\",\n",
      "\u001b[36malgo-1-m0nj4_1  |\u001b[0m     \"num_cpus\": 4,\n",
      "\u001b[36malgo-1-m0nj4_1  |\u001b[0m     \"num_gpus\": 0,\n",
      "\u001b[36malgo-1-m0nj4_1  |\u001b[0m     \"output_data_dir\": \"/opt/ml/output/data\",\n",
      "\u001b[36malgo-1-m0nj4_1  |\u001b[0m     \"output_dir\": \"/opt/ml/output\",\n",
      "\u001b[36malgo-1-m0nj4_1  |\u001b[0m     \"output_intermediate_dir\": \"/opt/ml/output/intermediate\",\n",
      "\u001b[36malgo-1-m0nj4_1  |\u001b[0m     \"resource_config\": {\n",
      "\u001b[36malgo-1-m0nj4_1  |\u001b[0m         \"current_host\": \"algo-1-m0nj4\",\n",
      "\u001b[36malgo-1-m0nj4_1  |\u001b[0m         \"hosts\": [\n",
      "\u001b[36malgo-1-m0nj4_1  |\u001b[0m             \"algo-1-m0nj4\"\n",
      "\u001b[36malgo-1-m0nj4_1  |\u001b[0m         ]\n",
      "\u001b[36malgo-1-m0nj4_1  |\u001b[0m     },\n",
      "\u001b[36malgo-1-m0nj4_1  |\u001b[0m     \"user_entry_point\": \"iris.py\"\n",
      "\u001b[36malgo-1-m0nj4_1  |\u001b[0m }\n",
      "\u001b[36malgo-1-m0nj4_1  |\u001b[0m \n",
      "\u001b[36malgo-1-m0nj4_1  |\u001b[0m Environment variables:\n",
      "\u001b[36malgo-1-m0nj4_1  |\u001b[0m \n",
      "\u001b[36malgo-1-m0nj4_1  |\u001b[0m SM_HOSTS=[\"algo-1-m0nj4\"]\n",
      "\u001b[36malgo-1-m0nj4_1  |\u001b[0m SM_NETWORK_INTERFACE_NAME=eth0\n",
      "\u001b[36malgo-1-m0nj4_1  |\u001b[0m SM_HPS={\"model_dir\":\"s3://chandra-ml-sagemaker/iris/model/tf-iris-2020-03-25-23-59-57-112/model\"}\n",
      "\u001b[36malgo-1-m0nj4_1  |\u001b[0m SM_USER_ENTRY_POINT=iris.py\n",
      "\u001b[36malgo-1-m0nj4_1  |\u001b[0m SM_FRAMEWORK_PARAMS={\"sagemaker_parameter_server_enabled\":false}\n",
      "\u001b[36malgo-1-m0nj4_1  |\u001b[0m SM_RESOURCE_CONFIG={\"current_host\":\"algo-1-m0nj4\",\"hosts\":[\"algo-1-m0nj4\"]}\n",
      "\u001b[36malgo-1-m0nj4_1  |\u001b[0m SM_INPUT_DATA_CONFIG={\"testing\":{\"TrainingInputMode\":\"File\"},\"training\":{\"TrainingInputMode\":\"File\"}}\n",
      "\u001b[36malgo-1-m0nj4_1  |\u001b[0m SM_OUTPUT_DATA_DIR=/opt/ml/output/data\n",
      "\u001b[36malgo-1-m0nj4_1  |\u001b[0m SM_CHANNELS=[\"testing\",\"training\"]\n",
      "\u001b[36malgo-1-m0nj4_1  |\u001b[0m SM_CURRENT_HOST=algo-1-m0nj4\n",
      "\u001b[36malgo-1-m0nj4_1  |\u001b[0m SM_MODULE_NAME=iris\n",
      "\u001b[36malgo-1-m0nj4_1  |\u001b[0m SM_LOG_LEVEL=20\n",
      "\u001b[36malgo-1-m0nj4_1  |\u001b[0m SM_FRAMEWORK_MODULE=sagemaker_tensorflow_container.training:main\n",
      "\u001b[36malgo-1-m0nj4_1  |\u001b[0m SM_INPUT_DIR=/opt/ml/input\n",
      "\u001b[36malgo-1-m0nj4_1  |\u001b[0m SM_INPUT_CONFIG_DIR=/opt/ml/input/config\n",
      "\u001b[36malgo-1-m0nj4_1  |\u001b[0m SM_OUTPUT_DIR=/opt/ml/output\n",
      "\u001b[36malgo-1-m0nj4_1  |\u001b[0m SM_NUM_CPUS=4\n",
      "\u001b[36malgo-1-m0nj4_1  |\u001b[0m SM_NUM_GPUS=0\n",
      "\u001b[36malgo-1-m0nj4_1  |\u001b[0m SM_MODEL_DIR=/opt/ml/model\n",
      "\u001b[36malgo-1-m0nj4_1  |\u001b[0m SM_MODULE_DIR=s3://chandra-ml-sagemaker/tf-iris-2020-03-25-23-59-57-112/source/sourcedir.tar.gz\n",
      "\u001b[36malgo-1-m0nj4_1  |\u001b[0m SM_TRAINING_ENV={\"additional_framework_parameters\":{\"sagemaker_parameter_server_enabled\":false},\"channel_input_dirs\":{\"testing\":\"/opt/ml/input/data/testing\",\"training\":\"/opt/ml/input/data/training\"},\"current_host\":\"algo-1-m0nj4\",\"framework_module\":\"sagemaker_tensorflow_container.training:main\",\"hosts\":[\"algo-1-m0nj4\"],\"hyperparameters\":{\"model_dir\":\"s3://chandra-ml-sagemaker/iris/model/tf-iris-2020-03-25-23-59-57-112/model\"},\"input_config_dir\":\"/opt/ml/input/config\",\"input_data_config\":{\"testing\":{\"TrainingInputMode\":\"File\"},\"training\":{\"TrainingInputMode\":\"File\"}},\"input_dir\":\"/opt/ml/input\",\"is_master\":true,\"job_name\":\"tf-iris-2020-03-25-23-59-57-112\",\"log_level\":20,\"master_hostname\":\"algo-1-m0nj4\",\"model_dir\":\"/opt/ml/model\",\"module_dir\":\"s3://chandra-ml-sagemaker/tf-iris-2020-03-25-23-59-57-112/source/sourcedir.tar.gz\",\"module_name\":\"iris\",\"network_interface_name\":\"eth0\",\"num_cpus\":4,\"num_gpus\":0,\"output_data_dir\":\"/opt/ml/output/data\",\"output_dir\":\"/opt/ml/output\",\"output_intermediate_dir\":\"/opt/ml/output/intermediate\",\"resource_config\":{\"current_host\":\"algo-1-m0nj4\",\"hosts\":[\"algo-1-m0nj4\"]},\"user_entry_point\":\"iris.py\"}\n",
      "\u001b[36malgo-1-m0nj4_1  |\u001b[0m SM_USER_ARGS=[\"--model_dir\",\"s3://chandra-ml-sagemaker/iris/model/tf-iris-2020-03-25-23-59-57-112/model\"]\n",
      "\u001b[36malgo-1-m0nj4_1  |\u001b[0m SM_OUTPUT_INTERMEDIATE_DIR=/opt/ml/output/intermediate\n",
      "\u001b[36malgo-1-m0nj4_1  |\u001b[0m SM_CHANNEL_TRAINING=/opt/ml/input/data/training\n",
      "\u001b[36malgo-1-m0nj4_1  |\u001b[0m SM_CHANNEL_TESTING=/opt/ml/input/data/testing\n",
      "\u001b[36malgo-1-m0nj4_1  |\u001b[0m SM_HP_MODEL_DIR=s3://chandra-ml-sagemaker/iris/model/tf-iris-2020-03-25-23-59-57-112/model\n",
      "\u001b[36malgo-1-m0nj4_1  |\u001b[0m PYTHONPATH=/opt/ml/code:/usr/local/bin:/usr/lib/python36.zip:/usr/lib/python3.6:/usr/lib/python3.6/lib-dynload:/usr/local/lib/python3.6/dist-packages:/usr/lib/python3/dist-packages\n",
      "\u001b[36malgo-1-m0nj4_1  |\u001b[0m \n",
      "\u001b[36malgo-1-m0nj4_1  |\u001b[0m Invoking script with the following command:\n",
      "\u001b[36malgo-1-m0nj4_1  |\u001b[0m \n",
      "\u001b[36malgo-1-m0nj4_1  |\u001b[0m /usr/bin/python3 iris.py --model_dir s3://chandra-ml-sagemaker/iris/model/tf-iris-2020-03-25-23-59-57-112/model\n",
      "\u001b[36malgo-1-m0nj4_1  |\u001b[0m \n",
      "\u001b[36malgo-1-m0nj4_1  |\u001b[0m \n",
      "\u001b[36malgo-1-m0nj4_1  |\u001b[0m Train on 105 samples, validate on 45 samples\n",
      "\u001b[36malgo-1-m0nj4_1  |\u001b[0m Epoch 1/300\n",
      "105/105 [==============================] - 1s 5ms/sample - loss: 1.6983 - accuracy: 0.3048 - val_loss: 1.3287 - val_accuracy: 0.4000\n",
      "\u001b[36malgo-1-m0nj4_1  |\u001b[0m Epoch 2/300\n",
      "105/105 [==============================] - 0s 143us/sample - loss: 1.4396 - accuracy: 0.3048 - val_loss: 1.1958 - val_accuracy: 0.4000\n",
      "\u001b[36malgo-1-m0nj4_1  |\u001b[0m Epoch 3/300\n",
      "105/105 [==============================] - 0s 130us/sample - loss: 1.2742 - accuracy: 0.3048 - val_loss: 1.1240 - val_accuracy: 0.4000\n",
      "\u001b[36malgo-1-m0nj4_1  |\u001b[0m Epoch 4/300\n",
      "105/105 [==============================] - 0s 128us/sample - loss: 1.1769 - accuracy: 0.3048 - val_loss: 1.0813 - val_accuracy: 0.4000\n",
      "\u001b[36malgo-1-m0nj4_1  |\u001b[0m Epoch 5/300\n",
      "105/105 [==============================] - 0s 132us/sample - loss: 1.1130 - accuracy: 0.3048 - val_loss: 1.0408 - val_accuracy: 0.4000\n",
      "\u001b[36malgo-1-m0nj4_1  |\u001b[0m Epoch 6/300\n",
      "105/105 [==============================] - 0s 144us/sample - loss: 1.0652 - accuracy: 0.3048 - val_loss: 1.0189 - val_accuracy: 0.3778\n",
      "\u001b[36malgo-1-m0nj4_1  |\u001b[0m Epoch 7/300\n",
      "105/105 [==============================] - 0s 133us/sample - loss: 1.0260 - accuracy: 0.2762 - val_loss: 0.9960 - val_accuracy: 0.3333\n",
      "\u001b[36malgo-1-m0nj4_1  |\u001b[0m Epoch 8/300\n",
      "105/105 [==============================] - 0s 126us/sample - loss: 0.9991 - accuracy: 0.2476 - val_loss: 0.9790 - val_accuracy: 0.1778\n",
      "\u001b[36malgo-1-m0nj4_1  |\u001b[0m Epoch 9/300\n",
      "105/105 [==============================] - 0s 128us/sample - loss: 0.9735 - accuracy: 0.2000 - val_loss: 0.9734 - val_accuracy: 0.0889\n",
      "\u001b[36malgo-1-m0nj4_1  |\u001b[0m Epoch 10/300\n",
      "105/105 [==============================] - 0s 134us/sample - loss: 0.9501 - accuracy: 0.1810 - val_loss: 0.9379 - val_accuracy: 0.0667\n",
      "\u001b[36malgo-1-m0nj4_1  |\u001b[0m Epoch 11/300\n",
      "105/105 [==============================] - 0s 134us/sample - loss: 0.9254 - accuracy: 0.0857 - val_loss: 0.9336 - val_accuracy: 0.2889\n",
      "\u001b[36malgo-1-m0nj4_1  |\u001b[0m Epoch 12/300\n",
      "105/105 [==============================] - 0s 130us/sample - loss: 0.9090 - accuracy: 0.4190 - val_loss: 0.9025 - val_accuracy: 0.2889\n",
      "\u001b[36malgo-1-m0nj4_1  |\u001b[0m Epoch 13/300\n",
      "105/105 [==============================] - 0s 128us/sample - loss: 0.8881 - accuracy: 0.3143 - val_loss: 0.9030 - val_accuracy: 0.5778\n",
      "\u001b[36malgo-1-m0nj4_1  |\u001b[0m Epoch 14/300\n",
      "105/105 [==============================] - 0s 128us/sample - loss: 0.8750 - accuracy: 0.6381 - val_loss: 0.8917 - val_accuracy: 0.5778\n",
      "\u001b[36malgo-1-m0nj4_1  |\u001b[0m Epoch 15/300\n",
      "105/105 [==============================] - 0s 129us/sample - loss: 0.8573 - accuracy: 0.6952 - val_loss: 0.8823 - val_accuracy: 0.5778\n",
      "\u001b[36malgo-1-m0nj4_1  |\u001b[0m Epoch 16/300\n"
     ]
    },
    {
     "name": "stdout",
     "output_type": "stream",
     "text": [
      "105/105 [==============================] - 0s 151us/sample - loss: 0.8418 - accuracy: 0.6952 - val_loss: 0.8272 - val_accuracy: 0.4889\n",
      "\u001b[36malgo-1-m0nj4_1  |\u001b[0m Epoch 17/300\n",
      "105/105 [==============================] - 0s 127us/sample - loss: 0.8234 - accuracy: 0.5524 - val_loss: 0.8203 - val_accuracy: 0.5778\n",
      "\u001b[36malgo-1-m0nj4_1  |\u001b[0m Epoch 18/300\n",
      "105/105 [==============================] - 0s 126us/sample - loss: 0.8084 - accuracy: 0.6952 - val_loss: 0.7884 - val_accuracy: 0.4889\n",
      "\u001b[36malgo-1-m0nj4_1  |\u001b[0m Epoch 19/300\n",
      "105/105 [==============================] - 0s 129us/sample - loss: 0.7926 - accuracy: 0.5524 - val_loss: 0.7622 - val_accuracy: 0.6444\n",
      "\u001b[36malgo-1-m0nj4_1  |\u001b[0m Epoch 20/300\n",
      "105/105 [==============================] - 0s 129us/sample - loss: 0.7819 - accuracy: 0.5429 - val_loss: 0.7720 - val_accuracy: 0.6000\n",
      "\u001b[36malgo-1-m0nj4_1  |\u001b[0m Epoch 21/300\n",
      "105/105 [==============================] - 0s 125us/sample - loss: 0.7643 - accuracy: 0.6952 - val_loss: 0.7671 - val_accuracy: 0.6000\n",
      "\u001b[36malgo-1-m0nj4_1  |\u001b[0m Epoch 22/300\n",
      "105/105 [==============================] - 0s 125us/sample - loss: 0.7570 - accuracy: 0.6762 - val_loss: 0.7388 - val_accuracy: 0.6000\n",
      "\u001b[36malgo-1-m0nj4_1  |\u001b[0m Epoch 23/300\n",
      "105/105 [==============================] - 0s 125us/sample - loss: 0.7394 - accuracy: 0.6952 - val_loss: 0.7102 - val_accuracy: 0.6444\n",
      "\u001b[36malgo-1-m0nj4_1  |\u001b[0m Epoch 24/300\n",
      "105/105 [==============================] - 0s 126us/sample - loss: 0.7264 - accuracy: 0.6857 - val_loss: 0.7057 - val_accuracy: 0.6222\n",
      "\u001b[36malgo-1-m0nj4_1  |\u001b[0m Epoch 25/300\n",
      "105/105 [==============================] - 0s 143us/sample - loss: 0.7138 - accuracy: 0.7143 - val_loss: 0.7195 - val_accuracy: 0.6000\n",
      "\u001b[36malgo-1-m0nj4_1  |\u001b[0m Epoch 26/300\n",
      "105/105 [==============================] - 0s 127us/sample - loss: 0.7037 - accuracy: 0.6952 - val_loss: 0.6911 - val_accuracy: 0.6000\n",
      "\u001b[36malgo-1-m0nj4_1  |\u001b[0m Epoch 27/300\n",
      "105/105 [==============================] - 0s 127us/sample - loss: 0.6927 - accuracy: 0.6952 - val_loss: 0.6616 - val_accuracy: 0.8000\n",
      "\u001b[36malgo-1-m0nj4_1  |\u001b[0m Epoch 28/300\n",
      "105/105 [==============================] - 0s 127us/sample - loss: 0.6823 - accuracy: 0.7619 - val_loss: 0.6811 - val_accuracy: 0.6000\n",
      "\u001b[36malgo-1-m0nj4_1  |\u001b[0m Epoch 29/300\n",
      "105/105 [==============================] - 0s 125us/sample - loss: 0.6698 - accuracy: 0.6952 - val_loss: 0.6400 - val_accuracy: 0.7778\n",
      "\u001b[36malgo-1-m0nj4_1  |\u001b[0m Epoch 30/300\n",
      "105/105 [==============================] - 0s 127us/sample - loss: 0.6614 - accuracy: 0.7714 - val_loss: 0.6389 - val_accuracy: 0.6889\n",
      "\u001b[36malgo-1-m0nj4_1  |\u001b[0m Epoch 31/300\n",
      "105/105 [==============================] - 0s 149us/sample - loss: 0.6522 - accuracy: 0.7143 - val_loss: 0.6129 - val_accuracy: 0.8444\n",
      "\u001b[36malgo-1-m0nj4_1  |\u001b[0m Epoch 32/300\n",
      "105/105 [==============================] - 0s 134us/sample - loss: 0.6380 - accuracy: 0.8381 - val_loss: 0.6210 - val_accuracy: 0.6222\n",
      "\u001b[36malgo-1-m0nj4_1  |\u001b[0m Epoch 33/300\n",
      "105/105 [==============================] - 0s 123us/sample - loss: 0.6325 - accuracy: 0.7619 - val_loss: 0.6069 - val_accuracy: 0.8222\n",
      "\u001b[36malgo-1-m0nj4_1  |\u001b[0m Epoch 34/300\n",
      "105/105 [==============================] - 0s 124us/sample - loss: 0.6212 - accuracy: 0.7810 - val_loss: 0.5988 - val_accuracy: 0.8000\n",
      "\u001b[36malgo-1-m0nj4_1  |\u001b[0m Epoch 35/300\n",
      "105/105 [==============================] - 0s 127us/sample - loss: 0.6131 - accuracy: 0.8952 - val_loss: 0.5972 - val_accuracy: 0.6222\n",
      "\u001b[36malgo-1-m0nj4_1  |\u001b[0m Epoch 36/300\n",
      "105/105 [==============================] - 0s 125us/sample - loss: 0.6104 - accuracy: 0.7048 - val_loss: 0.5804 - val_accuracy: 0.8000\n",
      "\u001b[36malgo-1-m0nj4_1  |\u001b[0m Epoch 37/300\n",
      "105/105 [==============================] - 0s 125us/sample - loss: 0.5967 - accuracy: 0.8476 - val_loss: 0.5779 - val_accuracy: 0.7333\n",
      "\u001b[36malgo-1-m0nj4_1  |\u001b[0m Epoch 38/300\n",
      "105/105 [==============================] - 0s 123us/sample - loss: 0.5857 - accuracy: 0.8381 - val_loss: 0.5780 - val_accuracy: 0.6222\n",
      "\u001b[36malgo-1-m0nj4_1  |\u001b[0m Epoch 39/300\n",
      "105/105 [==============================] - 0s 126us/sample - loss: 0.5822 - accuracy: 0.7429 - val_loss: 0.5548 - val_accuracy: 0.8444\n",
      "\u001b[36malgo-1-m0nj4_1  |\u001b[0m Epoch 40/300\n",
      "105/105 [==============================] - 0s 124us/sample - loss: 0.5727 - accuracy: 0.8952 - val_loss: 0.5658 - val_accuracy: 0.6222\n",
      "\u001b[36malgo-1-m0nj4_1  |\u001b[0m Epoch 41/300\n",
      "105/105 [==============================] - 0s 125us/sample - loss: 0.5647 - accuracy: 0.7429 - val_loss: 0.5550 - val_accuracy: 0.6444\n",
      "\u001b[36malgo-1-m0nj4_1  |\u001b[0m Epoch 42/300\n",
      "105/105 [==============================] - 0s 125us/sample - loss: 0.5600 - accuracy: 0.7048 - val_loss: 0.5093 - val_accuracy: 0.8222\n",
      "\u001b[36malgo-1-m0nj4_1  |\u001b[0m Epoch 43/300\n",
      "105/105 [==============================] - 0s 125us/sample - loss: 0.5523 - accuracy: 0.8095 - val_loss: 0.5104 - val_accuracy: 0.9556\n",
      "\u001b[36malgo-1-m0nj4_1  |\u001b[0m Epoch 44/300\n",
      "105/105 [==============================] - 0s 125us/sample - loss: 0.5440 - accuracy: 0.9333 - val_loss: 0.5059 - val_accuracy: 0.9556\n",
      "\u001b[36malgo-1-m0nj4_1  |\u001b[0m Epoch 45/300\n",
      "105/105 [==============================] - 0s 126us/sample - loss: 0.5362 - accuracy: 0.9429 - val_loss: 0.4893 - val_accuracy: 0.9333\n",
      "\u001b[36malgo-1-m0nj4_1  |\u001b[0m Epoch 46/300\n",
      "105/105 [==============================] - 0s 127us/sample - loss: 0.5287 - accuracy: 0.9333 - val_loss: 0.4996 - val_accuracy: 0.9333\n",
      "\u001b[36malgo-1-m0nj4_1  |\u001b[0m Epoch 47/300\n",
      "105/105 [==============================] - 0s 146us/sample - loss: 0.5225 - accuracy: 0.8762 - val_loss: 0.4709 - val_accuracy: 0.8000\n",
      "\u001b[36malgo-1-m0nj4_1  |\u001b[0m Epoch 48/300\n",
      "105/105 [==============================] - 0s 125us/sample - loss: 0.5186 - accuracy: 0.8095 - val_loss: 0.4715 - val_accuracy: 0.9556\n",
      "\u001b[36malgo-1-m0nj4_1  |\u001b[0m Epoch 49/300\n",
      "105/105 [==============================] - 0s 125us/sample - loss: 0.5156 - accuracy: 0.9143 - val_loss: 0.4845 - val_accuracy: 0.8889\n",
      "\u001b[36malgo-1-m0nj4_1  |\u001b[0m Epoch 50/300\n",
      "105/105 [==============================] - 0s 126us/sample - loss: 0.5059 - accuracy: 0.9333 - val_loss: 0.4668 - val_accuracy: 0.9556\n",
      "\u001b[36malgo-1-m0nj4_1  |\u001b[0m Epoch 51/300\n",
      "105/105 [==============================] - 0s 126us/sample - loss: 0.4977 - accuracy: 0.9619 - val_loss: 0.4739 - val_accuracy: 0.9111\n",
      "\u001b[36malgo-1-m0nj4_1  |\u001b[0m Epoch 52/300\n",
      "105/105 [==============================] - 0s 128us/sample - loss: 0.4920 - accuracy: 0.9429 - val_loss: 0.4447 - val_accuracy: 0.9556\n",
      "\u001b[36malgo-1-m0nj4_1  |\u001b[0m Epoch 53/300\n",
      "105/105 [==============================] - 0s 125us/sample - loss: 0.4882 - accuracy: 0.8762 - val_loss: 0.4610 - val_accuracy: 0.9333\n",
      "\u001b[36malgo-1-m0nj4_1  |\u001b[0m Epoch 54/300\n",
      "105/105 [==============================] - 0s 128us/sample - loss: 0.4801 - accuracy: 0.9429 - val_loss: 0.4324 - val_accuracy: 0.9556\n",
      "\u001b[36malgo-1-m0nj4_1  |\u001b[0m Epoch 55/300\n",
      "105/105 [==============================] - 0s 127us/sample - loss: 0.4819 - accuracy: 0.8952 - val_loss: 0.4337 - val_accuracy: 0.9556\n",
      "\u001b[36malgo-1-m0nj4_1  |\u001b[0m Epoch 56/300\n",
      "105/105 [==============================] - 0s 124us/sample - loss: 0.4695 - accuracy: 0.9810 - val_loss: 0.4251 - val_accuracy: 0.9556\n",
      "\u001b[36malgo-1-m0nj4_1  |\u001b[0m Epoch 57/300\n",
      "105/105 [==============================] - 0s 126us/sample - loss: 0.4643 - accuracy: 0.9238 - val_loss: 0.4519 - val_accuracy: 0.8667\n",
      "\u001b[36malgo-1-m0nj4_1  |\u001b[0m Epoch 58/300\n",
      "105/105 [==============================] - 0s 125us/sample - loss: 0.4634 - accuracy: 0.9048 - val_loss: 0.4564 - val_accuracy: 0.8000\n",
      "\u001b[36malgo-1-m0nj4_1  |\u001b[0m Epoch 59/300\n",
      "105/105 [==============================] - 0s 124us/sample - loss: 0.4585 - accuracy: 0.8857 - val_loss: 0.4405 - val_accuracy: 0.8889\n",
      "\u001b[36malgo-1-m0nj4_1  |\u001b[0m Epoch 60/300\n",
      "105/105 [==============================] - 0s 126us/sample - loss: 0.4538 - accuracy: 0.8667 - val_loss: 0.4105 - val_accuracy: 0.9556\n",
      "\u001b[36malgo-1-m0nj4_1  |\u001b[0m Epoch 61/300\n",
      "105/105 [==============================] - 0s 124us/sample - loss: 0.4473 - accuracy: 0.9810 - val_loss: 0.4185 - val_accuracy: 0.9556\n",
      "\u001b[36malgo-1-m0nj4_1  |\u001b[0m Epoch 62/300\n",
      "105/105 [==============================] - 0s 124us/sample - loss: 0.4428 - accuracy: 0.9810 - val_loss: 0.4024 - val_accuracy: 0.9556\n",
      "\u001b[36malgo-1-m0nj4_1  |\u001b[0m Epoch 63/300\n"
     ]
    },
    {
     "name": "stdout",
     "output_type": "stream",
     "text": [
      "105/105 [==============================] - 0s 144us/sample - loss: 0.4366 - accuracy: 0.9714 - val_loss: 0.4074 - val_accuracy: 0.9556\n",
      "\u001b[36malgo-1-m0nj4_1  |\u001b[0m Epoch 64/300\n",
      "105/105 [==============================] - 0s 127us/sample - loss: 0.4336 - accuracy: 0.9714 - val_loss: 0.4298 - val_accuracy: 0.8444\n",
      "\u001b[36malgo-1-m0nj4_1  |\u001b[0m Epoch 65/300\n",
      "105/105 [==============================] - 0s 124us/sample - loss: 0.4334 - accuracy: 0.9143 - val_loss: 0.4260 - val_accuracy: 0.8444\n",
      "\u001b[36malgo-1-m0nj4_1  |\u001b[0m Epoch 66/300\n",
      "105/105 [==============================] - 0s 126us/sample - loss: 0.4288 - accuracy: 0.9143 - val_loss: 0.4066 - val_accuracy: 0.9333\n",
      "\u001b[36malgo-1-m0nj4_1  |\u001b[0m Epoch 67/300\n",
      "105/105 [==============================] - 0s 124us/sample - loss: 0.4211 - accuracy: 0.9429 - val_loss: 0.3821 - val_accuracy: 0.9556\n",
      "\u001b[36malgo-1-m0nj4_1  |\u001b[0m Epoch 68/300\n",
      "105/105 [==============================] - 0s 124us/sample - loss: 0.4206 - accuracy: 0.9048 - val_loss: 0.4083 - val_accuracy: 0.8889\n",
      "\u001b[36malgo-1-m0nj4_1  |\u001b[0m Epoch 69/300\n",
      "105/105 [==============================] - 0s 125us/sample - loss: 0.4200 - accuracy: 0.9143 - val_loss: 0.3950 - val_accuracy: 0.9333\n",
      "\u001b[36malgo-1-m0nj4_1  |\u001b[0m Epoch 70/300\n",
      "105/105 [==============================] - 0s 125us/sample - loss: 0.4130 - accuracy: 0.9429 - val_loss: 0.3779 - val_accuracy: 0.9556\n",
      "\u001b[36malgo-1-m0nj4_1  |\u001b[0m Epoch 71/300\n",
      "105/105 [==============================] - 0s 125us/sample - loss: 0.4063 - accuracy: 0.9714 - val_loss: 0.3788 - val_accuracy: 0.9556\n",
      "\u001b[36malgo-1-m0nj4_1  |\u001b[0m Epoch 72/300\n",
      "105/105 [==============================] - 0s 125us/sample - loss: 0.4073 - accuracy: 0.9619 - val_loss: 0.3840 - val_accuracy: 0.9556\n",
      "\u001b[36malgo-1-m0nj4_1  |\u001b[0m Epoch 73/300\n",
      "105/105 [==============================] - 0s 124us/sample - loss: 0.3996 - accuracy: 0.9524 - val_loss: 0.3722 - val_accuracy: 0.9556\n",
      "\u001b[36malgo-1-m0nj4_1  |\u001b[0m Epoch 74/300\n",
      "105/105 [==============================] - 0s 124us/sample - loss: 0.3939 - accuracy: 0.9810 - val_loss: 0.3536 - val_accuracy: 0.9556\n",
      "\u001b[36malgo-1-m0nj4_1  |\u001b[0m Epoch 75/300\n",
      "105/105 [==============================] - 0s 128us/sample - loss: 0.3937 - accuracy: 0.9714 - val_loss: 0.3731 - val_accuracy: 0.9556\n",
      "\u001b[36malgo-1-m0nj4_1  |\u001b[0m Epoch 76/300\n",
      "105/105 [==============================] - 0s 126us/sample - loss: 0.3873 - accuracy: 0.9524 - val_loss: 0.3457 - val_accuracy: 0.9556\n",
      "\u001b[36malgo-1-m0nj4_1  |\u001b[0m Epoch 77/300\n",
      "105/105 [==============================] - 0s 126us/sample - loss: 0.3853 - accuracy: 0.9714 - val_loss: 0.3371 - val_accuracy: 0.9556\n",
      "\u001b[36malgo-1-m0nj4_1  |\u001b[0m Epoch 78/300\n",
      "105/105 [==============================] - 0s 127us/sample - loss: 0.3830 - accuracy: 0.9619 - val_loss: 0.3377 - val_accuracy: 0.9556\n",
      "\u001b[36malgo-1-m0nj4_1  |\u001b[0m Epoch 79/300\n",
      "105/105 [==============================] - 0s 148us/sample - loss: 0.3795 - accuracy: 0.9714 - val_loss: 0.3337 - val_accuracy: 0.9556\n",
      "\u001b[36malgo-1-m0nj4_1  |\u001b[0m Epoch 80/300\n",
      "105/105 [==============================] - 0s 130us/sample - loss: 0.3739 - accuracy: 0.9714 - val_loss: 0.3404 - val_accuracy: 0.9556\n",
      "\u001b[36malgo-1-m0nj4_1  |\u001b[0m Epoch 81/300\n",
      "105/105 [==============================] - 0s 127us/sample - loss: 0.3712 - accuracy: 0.9810 - val_loss: 0.3247 - val_accuracy: 0.9556\n",
      "\u001b[36malgo-1-m0nj4_1  |\u001b[0m Epoch 82/300\n",
      "105/105 [==============================] - 0s 123us/sample - loss: 0.3680 - accuracy: 0.9619 - val_loss: 0.3252 - val_accuracy: 0.9556\n",
      "\u001b[36malgo-1-m0nj4_1  |\u001b[0m Epoch 83/300\n",
      "105/105 [==============================] - 0s 129us/sample - loss: 0.3666 - accuracy: 0.9619 - val_loss: 0.3325 - val_accuracy: 0.9556\n",
      "\u001b[36malgo-1-m0nj4_1  |\u001b[0m Epoch 84/300\n",
      "105/105 [==============================] - 0s 126us/sample - loss: 0.3605 - accuracy: 0.9714 - val_loss: 0.3337 - val_accuracy: 0.9556\n",
      "\u001b[36malgo-1-m0nj4_1  |\u001b[0m Epoch 85/300\n",
      "105/105 [==============================] - 0s 125us/sample - loss: 0.3579 - accuracy: 0.9619 - val_loss: 0.3313 - val_accuracy: 0.9556\n",
      "\u001b[36malgo-1-m0nj4_1  |\u001b[0m Epoch 86/300\n",
      "105/105 [==============================] - 0s 128us/sample - loss: 0.3527 - accuracy: 0.9714 - val_loss: 0.3085 - val_accuracy: 0.9556\n",
      "\u001b[36malgo-1-m0nj4_1  |\u001b[0m Epoch 87/300\n",
      "105/105 [==============================] - 0s 127us/sample - loss: 0.3491 - accuracy: 0.9714 - val_loss: 0.3319 - val_accuracy: 0.9333\n",
      "\u001b[36malgo-1-m0nj4_1  |\u001b[0m Epoch 88/300\n",
      "105/105 [==============================] - 0s 125us/sample - loss: 0.3464 - accuracy: 0.9524 - val_loss: 0.3006 - val_accuracy: 0.9556\n",
      "\u001b[36malgo-1-m0nj4_1  |\u001b[0m Epoch 89/300\n",
      "105/105 [==============================] - 0s 124us/sample - loss: 0.3476 - accuracy: 0.9714 - val_loss: 0.2985 - val_accuracy: 0.9556\n",
      "\u001b[36malgo-1-m0nj4_1  |\u001b[0m Epoch 90/300\n",
      "105/105 [==============================] - 0s 125us/sample - loss: 0.3464 - accuracy: 0.9810 - val_loss: 0.2952 - val_accuracy: 0.9556\n",
      "\u001b[36malgo-1-m0nj4_1  |\u001b[0m Epoch 91/300\n",
      "105/105 [==============================] - 0s 126us/sample - loss: 0.3431 - accuracy: 0.9333 - val_loss: 0.2983 - val_accuracy: 0.9556\n",
      "\u001b[36malgo-1-m0nj4_1  |\u001b[0m Epoch 92/300\n",
      "105/105 [==============================] - 0s 127us/sample - loss: 0.3392 - accuracy: 0.9714 - val_loss: 0.3203 - val_accuracy: 0.9333\n",
      "\u001b[36malgo-1-m0nj4_1  |\u001b[0m Epoch 93/300\n",
      "105/105 [==============================] - 0s 126us/sample - loss: 0.3383 - accuracy: 0.9714 - val_loss: 0.3014 - val_accuracy: 0.9556\n",
      "\u001b[36malgo-1-m0nj4_1  |\u001b[0m Epoch 94/300\n",
      "105/105 [==============================] - 0s 123us/sample - loss: 0.3303 - accuracy: 0.9905 - val_loss: 0.3119 - val_accuracy: 0.9556\n",
      "\u001b[36malgo-1-m0nj4_1  |\u001b[0m Epoch 95/300\n",
      "105/105 [==============================] - 0s 136us/sample - loss: 0.3376 - accuracy: 0.9333 - val_loss: 0.2949 - val_accuracy: 0.9556\n",
      "\u001b[36malgo-1-m0nj4_1  |\u001b[0m Epoch 96/300\n",
      "105/105 [==============================] - 0s 128us/sample - loss: 0.3268 - accuracy: 0.9714 - val_loss: 0.2839 - val_accuracy: 0.9556\n",
      "\u001b[36malgo-1-m0nj4_1  |\u001b[0m Epoch 97/300\n",
      "105/105 [==============================] - 0s 123us/sample - loss: 0.3281 - accuracy: 0.9714 - val_loss: 0.2806 - val_accuracy: 0.9556\n",
      "\u001b[36malgo-1-m0nj4_1  |\u001b[0m Epoch 98/300\n",
      "105/105 [==============================] - 0s 124us/sample - loss: 0.3265 - accuracy: 0.9714 - val_loss: 0.2817 - val_accuracy: 0.9556\n",
      "\u001b[36malgo-1-m0nj4_1  |\u001b[0m Epoch 99/300\n",
      "105/105 [==============================] - 0s 137us/sample - loss: 0.3199 - accuracy: 0.9714 - val_loss: 0.2801 - val_accuracy: 0.9556\n",
      "\u001b[36malgo-1-m0nj4_1  |\u001b[0m Epoch 100/300\n",
      "105/105 [==============================] - 0s 125us/sample - loss: 0.3186 - accuracy: 0.9619 - val_loss: 0.2805 - val_accuracy: 0.9556\n",
      "\u001b[36malgo-1-m0nj4_1  |\u001b[0m Epoch 101/300\n",
      "105/105 [==============================] - 0s 126us/sample - loss: 0.3147 - accuracy: 0.9905 - val_loss: 0.2825 - val_accuracy: 0.9556\n",
      "\u001b[36malgo-1-m0nj4_1  |\u001b[0m Epoch 102/300\n",
      "105/105 [==============================] - 0s 124us/sample - loss: 0.3118 - accuracy: 0.9810 - val_loss: 0.2989 - val_accuracy: 0.9333\n",
      "\u001b[36malgo-1-m0nj4_1  |\u001b[0m Epoch 103/300\n",
      "105/105 [==============================] - 0s 126us/sample - loss: 0.3121 - accuracy: 0.9714 - val_loss: 0.2727 - val_accuracy: 0.9556\n",
      "\u001b[36malgo-1-m0nj4_1  |\u001b[0m Epoch 104/300\n",
      "105/105 [==============================] - 0s 126us/sample - loss: 0.3050 - accuracy: 0.9714 - val_loss: 0.2907 - val_accuracy: 0.9333\n",
      "\u001b[36malgo-1-m0nj4_1  |\u001b[0m Epoch 105/300\n",
      "105/105 [==============================] - 0s 125us/sample - loss: 0.3041 - accuracy: 0.9619 - val_loss: 0.2770 - val_accuracy: 0.9556\n",
      "\u001b[36malgo-1-m0nj4_1  |\u001b[0m Epoch 106/300\n",
      "105/105 [==============================] - 0s 131us/sample - loss: 0.3061 - accuracy: 0.9524 - val_loss: 0.2674 - val_accuracy: 0.9556\n",
      "\u001b[36malgo-1-m0nj4_1  |\u001b[0m Epoch 107/300\n",
      "105/105 [==============================] - 0s 124us/sample - loss: 0.2975 - accuracy: 0.9905 - val_loss: 0.2849 - val_accuracy: 0.9333\n",
      "\u001b[36malgo-1-m0nj4_1  |\u001b[0m Epoch 108/300\n",
      "105/105 [==============================] - 0s 130us/sample - loss: 0.2970 - accuracy: 0.9619 - val_loss: 0.2619 - val_accuracy: 0.9556\n",
      "\u001b[36malgo-1-m0nj4_1  |\u001b[0m Epoch 109/300\n",
      "105/105 [==============================] - 0s 146us/sample - loss: 0.2948 - accuracy: 0.9714 - val_loss: 0.2574 - val_accuracy: 0.9556\n",
      "\u001b[36malgo-1-m0nj4_1  |\u001b[0m Epoch 110/300\n",
      "105/105 [==============================] - 0s 126us/sample - loss: 0.2904 - accuracy: 0.9905 - val_loss: 0.2631 - val_accuracy: 0.9556\n",
      "\u001b[36malgo-1-m0nj4_1  |\u001b[0m Epoch 111/300\n",
      "105/105 [==============================] - 0s 126us/sample - loss: 0.2934 - accuracy: 0.9810 - val_loss: 0.2499 - val_accuracy: 0.9556\n",
      "\u001b[36malgo-1-m0nj4_1  |\u001b[0m Epoch 112/300\n",
      "105/105 [==============================] - 0s 124us/sample - loss: 0.2878 - accuracy: 0.9714 - val_loss: 0.2468 - val_accuracy: 0.9556\n",
      "\u001b[36malgo-1-m0nj4_1  |\u001b[0m Epoch 113/300\n",
      "105/105 [==============================] - 0s 133us/sample - loss: 0.2859 - accuracy: 0.9714 - val_loss: 0.2483 - val_accuracy: 0.9556\n",
      "\u001b[36malgo-1-m0nj4_1  |\u001b[0m Epoch 114/300\n",
      "105/105 [==============================] - 0s 122us/sample - loss: 0.2827 - accuracy: 0.9810 - val_loss: 0.2433 - val_accuracy: 0.9556\n",
      "\u001b[36malgo-1-m0nj4_1  |\u001b[0m Epoch 115/300\n",
      "105/105 [==============================] - 0s 132us/sample - loss: 0.2867 - accuracy: 0.9714 - val_loss: 0.2412 - val_accuracy: 0.9556\n",
      "\u001b[36malgo-1-m0nj4_1  |\u001b[0m Epoch 116/300\n",
      "105/105 [==============================] - 0s 122us/sample - loss: 0.2800 - accuracy: 0.9714 - val_loss: 0.2516 - val_accuracy: 0.9556\n",
      "\u001b[36malgo-1-m0nj4_1  |\u001b[0m Epoch 117/300\n",
      "105/105 [==============================] - 0s 127us/sample - loss: 0.2761 - accuracy: 0.9810 - val_loss: 0.2409 - val_accuracy: 0.9556\n",
      "\u001b[36malgo-1-m0nj4_1  |\u001b[0m Epoch 118/300\n",
      "105/105 [==============================] - 0s 126us/sample - loss: 0.2722 - accuracy: 0.9905 - val_loss: 0.2399 - val_accuracy: 0.9556\n",
      "\u001b[36malgo-1-m0nj4_1  |\u001b[0m Epoch 119/300\n",
      "105/105 [==============================] - 0s 127us/sample - loss: 0.2696 - accuracy: 0.9810 - val_loss: 0.2567 - val_accuracy: 0.9333\n",
      "\u001b[36malgo-1-m0nj4_1  |\u001b[0m Epoch 120/300\n",
      "105/105 [==============================] - 0s 126us/sample - loss: 0.2728 - accuracy: 0.9524 - val_loss: 0.2541 - val_accuracy: 0.9333\n",
      "\u001b[36malgo-1-m0nj4_1  |\u001b[0m Epoch 121/300\n",
      "105/105 [==============================] - 0s 125us/sample - loss: 0.2674 - accuracy: 0.9714 - val_loss: 0.2328 - val_accuracy: 0.9556\n",
      "\u001b[36malgo-1-m0nj4_1  |\u001b[0m Epoch 122/300\n",
      "105/105 [==============================] - 0s 125us/sample - loss: 0.2646 - accuracy: 0.9905 - val_loss: 0.2420 - val_accuracy: 0.9556\n",
      "\u001b[36malgo-1-m0nj4_1  |\u001b[0m Epoch 123/300\n",
      "105/105 [==============================] - 0s 124us/sample - loss: 0.2623 - accuracy: 0.9714 - val_loss: 0.2278 - val_accuracy: 0.9556\n",
      "\u001b[36malgo-1-m0nj4_1  |\u001b[0m Epoch 124/300\n",
      "105/105 [==============================] - 0s 124us/sample - loss: 0.2588 - accuracy: 0.9810 - val_loss: 0.2269 - val_accuracy: 0.9556\n"
     ]
    },
    {
     "name": "stdout",
     "output_type": "stream",
     "text": [
      "\u001b[36malgo-1-m0nj4_1  |\u001b[0m Epoch 125/300\n",
      "105/105 [==============================] - 0s 143us/sample - loss: 0.2566 - accuracy: 0.9905 - val_loss: 0.2456 - val_accuracy: 0.9333\n",
      "\u001b[36malgo-1-m0nj4_1  |\u001b[0m Epoch 126/300\n",
      "105/105 [==============================] - 0s 125us/sample - loss: 0.2559 - accuracy: 0.9524 - val_loss: 0.2272 - val_accuracy: 0.9556\n",
      "\u001b[36malgo-1-m0nj4_1  |\u001b[0m Epoch 127/300\n",
      "105/105 [==============================] - 0s 125us/sample - loss: 0.2530 - accuracy: 0.9810 - val_loss: 0.2332 - val_accuracy: 0.9556\n",
      "\u001b[36malgo-1-m0nj4_1  |\u001b[0m Epoch 128/300\n",
      "105/105 [==============================] - 0s 126us/sample - loss: 0.2524 - accuracy: 0.9810 - val_loss: 0.2414 - val_accuracy: 0.9333\n",
      "\u001b[36malgo-1-m0nj4_1  |\u001b[0m Epoch 129/300\n",
      "105/105 [==============================] - 0s 125us/sample - loss: 0.2530 - accuracy: 0.9619 - val_loss: 0.2288 - val_accuracy: 0.9556\n",
      "\u001b[36malgo-1-m0nj4_1  |\u001b[0m Epoch 00129: early stopping\n",
      "\u001b[36malgo-1-m0nj4_1  |\u001b[0m 2020-03-26 00:01:01.316994: W tensorflow/python/util/util.cc:319] Sets are not currently considered sequences, but this may change in the future, so consider avoiding using them.\n",
      "\u001b[36malgo-1-m0nj4_1  |\u001b[0m WARNING:tensorflow:From /usr/local/lib/python3.6/dist-packages/tensorflow_core/python/ops/resource_variable_ops.py:1786: calling BaseResourceVariable.__init__ (from tensorflow.python.ops.resource_variable_ops) with constraint is deprecated and will be removed in a future version.\n",
      "\u001b[36malgo-1-m0nj4_1  |\u001b[0m Instructions for updating:\n",
      "\u001b[36malgo-1-m0nj4_1  |\u001b[0m If using Keras pass *_constraint arguments to layers.\n",
      "\u001b[36malgo-1-m0nj4_1  |\u001b[0m WARNING:tensorflow:From /usr/local/lib/python3.6/dist-packages/tensorflow_core/python/ops/resource_variable_ops.py:1786: calling BaseResourceVariable.__init__ (from tensorflow.python.ops.resource_variable_ops) with constraint is deprecated and will be removed in a future version.\n",
      "\u001b[36malgo-1-m0nj4_1  |\u001b[0m Instructions for updating:\n",
      "\u001b[36malgo-1-m0nj4_1  |\u001b[0m If using Keras pass *_constraint arguments to layers.\n",
      "\u001b[36malgo-1-m0nj4_1  |\u001b[0m INFO:tensorflow:Assets written to: /opt/ml/model/000000001/assets\n",
      "\u001b[36malgo-1-m0nj4_1  |\u001b[0m INFO:tensorflow:Assets written to: /opt/ml/model/000000001/assets\n",
      "\u001b[36malgo-1-m0nj4_1  |\u001b[0m 2020-03-26 00:01:01,688 sagemaker-containers INFO     Reporting training SUCCESS\n",
      "\u001b[36mtmp0zcsjjvq_algo-1-m0nj4_1 exited with code 0\n",
      "\u001b[0mAborting on container exit...\n",
      "===== Job Complete =====\n"
     ]
    }
   ],
   "source": [
    "estimator.fit({'training':training_data_uri,'testing':testing_data_uri})"
   ]
  },
  {
   "cell_type": "code",
   "execution_count": 13,
   "metadata": {},
   "outputs": [
    {
     "data": {
      "text/plain": [
       "'tf-iris-2020-03-25-23-59-57-112'"
      ]
     },
     "execution_count": 13,
     "metadata": {},
     "output_type": "execute_result"
    }
   ],
   "source": [
    "estimator.latest_training_job.job_name"
   ]
  },
  {
   "cell_type": "code",
   "execution_count": 14,
   "metadata": {},
   "outputs": [
    {
     "data": {
      "text/plain": [
       "'s3://chandra-ml-sagemaker/iris/model/tf-iris-2020-03-25-23-59-57-112/model.tar.gz'"
      ]
     },
     "execution_count": 14,
     "metadata": {},
     "output_type": "execute_result"
    }
   ],
   "source": [
    "estimator.model_data"
   ]
  },
  {
   "cell_type": "markdown",
   "metadata": {
    "collapsed": true
   },
   "source": [
    "# Deploy the trained model to an endpoint\n",
    "\n",
    "The `deploy()` method creates a SageMaker model, which is then deployed to an endpoint to serve prediction requests in real time. We will use the TensorFlow Serving container for the endpoint, because we trained with script mode. This serving container runs an implementation of a web server that is compatible with SageMaker hosting protocol. The [Using your own inference code]() document explains how SageMaker runs inference containers."
   ]
  },
  {
   "cell_type": "markdown",
   "metadata": {
    "collapsed": true
   },
   "source": [
    "Deployed the trained TensorFlow 2.1 model to an endpoint."
   ]
  },
  {
   "cell_type": "code",
   "execution_count": 15,
   "metadata": {},
   "outputs": [
    {
     "name": "stdout",
     "output_type": "stream",
     "text": [
      "Attaching to tmpj_3dl723_algo-1-4hqw6_1\n",
      "\u001b[36malgo-1-4hqw6_1  |\u001b[0m INFO:__main__:starting services\r\n",
      "\u001b[36malgo-1-4hqw6_1  |\u001b[0m INFO:__main__:using default model name: model\r\n",
      "\u001b[36malgo-1-4hqw6_1  |\u001b[0m INFO:__main__:tensorflow serving model config: \r\n",
      "\u001b[36malgo-1-4hqw6_1  |\u001b[0m model_config_list: {\r\n",
      "\u001b[36malgo-1-4hqw6_1  |\u001b[0m   config: {\r\n",
      "\u001b[36malgo-1-4hqw6_1  |\u001b[0m     name: \"model\",\r\n",
      "\u001b[36malgo-1-4hqw6_1  |\u001b[0m     base_path: \"/opt/ml/model\",\r\n",
      "\u001b[36malgo-1-4hqw6_1  |\u001b[0m     model_platform: \"tensorflow\"\r\n",
      "\u001b[36malgo-1-4hqw6_1  |\u001b[0m   }\r\n",
      "\u001b[36malgo-1-4hqw6_1  |\u001b[0m }\r\n",
      "\u001b[36malgo-1-4hqw6_1  |\u001b[0m \r\n",
      "\u001b[36malgo-1-4hqw6_1  |\u001b[0m \r\n",
      "\u001b[36malgo-1-4hqw6_1  |\u001b[0m INFO:__main__:nginx config: \r\n",
      "\u001b[36malgo-1-4hqw6_1  |\u001b[0m load_module modules/ngx_http_js_module.so;\r\n",
      "\u001b[36malgo-1-4hqw6_1  |\u001b[0m \r\n",
      "\u001b[36malgo-1-4hqw6_1  |\u001b[0m worker_processes auto;\r\n",
      "\u001b[36malgo-1-4hqw6_1  |\u001b[0m daemon off;\r\n",
      "\u001b[36malgo-1-4hqw6_1  |\u001b[0m pid /tmp/nginx.pid;\r\n",
      "\u001b[36malgo-1-4hqw6_1  |\u001b[0m error_log  /dev/stderr info;\r\n",
      "\u001b[36malgo-1-4hqw6_1  |\u001b[0m \r\n",
      "\u001b[36malgo-1-4hqw6_1  |\u001b[0m worker_rlimit_nofile 4096;\r\n",
      "\u001b[36malgo-1-4hqw6_1  |\u001b[0m \r\n",
      "\u001b[36malgo-1-4hqw6_1  |\u001b[0m events {\r\n",
      "\u001b[36malgo-1-4hqw6_1  |\u001b[0m   worker_connections 2048;\r\n",
      "\u001b[36malgo-1-4hqw6_1  |\u001b[0m }\r\n",
      "\u001b[36malgo-1-4hqw6_1  |\u001b[0m \r\n",
      "\u001b[36malgo-1-4hqw6_1  |\u001b[0m http {\r\n",
      "\u001b[36malgo-1-4hqw6_1  |\u001b[0m   include /etc/nginx/mime.types;\r\n",
      "\u001b[36malgo-1-4hqw6_1  |\u001b[0m   default_type application/json;\r\n",
      "\u001b[36malgo-1-4hqw6_1  |\u001b[0m   access_log /dev/stdout combined;\r\n",
      "\u001b[36malgo-1-4hqw6_1  |\u001b[0m   js_include tensorflow-serving.js;\r\n",
      "\u001b[36malgo-1-4hqw6_1  |\u001b[0m \r\n",
      "\u001b[36malgo-1-4hqw6_1  |\u001b[0m   upstream tfs_upstream {\r\n",
      "\u001b[36malgo-1-4hqw6_1  |\u001b[0m     server localhost:8501;\r\n",
      "\u001b[36malgo-1-4hqw6_1  |\u001b[0m   }\r\n",
      "\u001b[36malgo-1-4hqw6_1  |\u001b[0m \r\n",
      "\u001b[36malgo-1-4hqw6_1  |\u001b[0m   upstream gunicorn_upstream {\r\n",
      "\u001b[36malgo-1-4hqw6_1  |\u001b[0m     server unix:/tmp/gunicorn.sock fail_timeout=1;\r\n",
      "\u001b[36malgo-1-4hqw6_1  |\u001b[0m   }\r\n",
      "\u001b[36malgo-1-4hqw6_1  |\u001b[0m \r\n",
      "\u001b[36malgo-1-4hqw6_1  |\u001b[0m   server {\r\n",
      "\u001b[36malgo-1-4hqw6_1  |\u001b[0m     listen 8080 deferred;\r\n",
      "\u001b[36malgo-1-4hqw6_1  |\u001b[0m     client_max_body_size 0;\r\n",
      "\u001b[36malgo-1-4hqw6_1  |\u001b[0m     client_body_buffer_size 100m;\r\n",
      "\u001b[36malgo-1-4hqw6_1  |\u001b[0m     subrequest_output_buffer_size 100m;\r\n",
      "\u001b[36malgo-1-4hqw6_1  |\u001b[0m \r\n",
      "\u001b[36malgo-1-4hqw6_1  |\u001b[0m     set $tfs_version 2.1;\r\n",
      "\u001b[36malgo-1-4hqw6_1  |\u001b[0m     set $default_tfs_model model;\r\n",
      "\u001b[36malgo-1-4hqw6_1  |\u001b[0m \r\n",
      "\u001b[36malgo-1-4hqw6_1  |\u001b[0m     location /tfs {\r\n",
      "\u001b[36malgo-1-4hqw6_1  |\u001b[0m         rewrite ^/tfs/(.*) /$1  break;\r\n",
      "\u001b[36malgo-1-4hqw6_1  |\u001b[0m         proxy_redirect off;\r\n",
      "\u001b[36malgo-1-4hqw6_1  |\u001b[0m         proxy_pass_request_headers off;\r\n",
      "\u001b[36malgo-1-4hqw6_1  |\u001b[0m         proxy_set_header Content-Type 'application/json';\r\n",
      "\u001b[36malgo-1-4hqw6_1  |\u001b[0m         proxy_set_header Accept 'application/json';\r\n",
      "\u001b[36malgo-1-4hqw6_1  |\u001b[0m         proxy_pass http://tfs_upstream;\r\n",
      "\u001b[36malgo-1-4hqw6_1  |\u001b[0m     }\r\n",
      "\u001b[36malgo-1-4hqw6_1  |\u001b[0m \r\n",
      "\u001b[36malgo-1-4hqw6_1  |\u001b[0m     location /ping {\r\n",
      "\u001b[36malgo-1-4hqw6_1  |\u001b[0m         js_content ping_without_model;\r\n",
      "\u001b[36malgo-1-4hqw6_1  |\u001b[0m     }\r\n",
      "\u001b[36malgo-1-4hqw6_1  |\u001b[0m \r\n",
      "\u001b[36malgo-1-4hqw6_1  |\u001b[0m     location /invocations {\r\n",
      "\u001b[36malgo-1-4hqw6_1  |\u001b[0m         js_content invocations;\r\n",
      "\u001b[36malgo-1-4hqw6_1  |\u001b[0m     }\r\n",
      "\u001b[36malgo-1-4hqw6_1  |\u001b[0m \r\n",
      "\u001b[36malgo-1-4hqw6_1  |\u001b[0m     location ~ ^/models/(.*)/invoke {\r\n",
      "\u001b[36malgo-1-4hqw6_1  |\u001b[0m         js_content invocations;\r\n",
      "\u001b[36malgo-1-4hqw6_1  |\u001b[0m     }\r\n",
      "\u001b[36malgo-1-4hqw6_1  |\u001b[0m \r\n",
      "\u001b[36malgo-1-4hqw6_1  |\u001b[0m     location /models {\r\n",
      "\u001b[36malgo-1-4hqw6_1  |\u001b[0m         proxy_pass http://gunicorn_upstream/models;\r\n",
      "\u001b[36malgo-1-4hqw6_1  |\u001b[0m     }\r\n",
      "\u001b[36malgo-1-4hqw6_1  |\u001b[0m \r\n",
      "\u001b[36malgo-1-4hqw6_1  |\u001b[0m     location / {\r\n",
      "\u001b[36malgo-1-4hqw6_1  |\u001b[0m         return 404 '{\"error\": \"Not Found\"}';\r\n",
      "\u001b[36malgo-1-4hqw6_1  |\u001b[0m     }\r\n",
      "\u001b[36malgo-1-4hqw6_1  |\u001b[0m \r\n",
      "\u001b[36malgo-1-4hqw6_1  |\u001b[0m     keepalive_timeout 3;\r\n",
      "\u001b[36malgo-1-4hqw6_1  |\u001b[0m   }\r\n",
      "\u001b[36malgo-1-4hqw6_1  |\u001b[0m }\r\n",
      "\u001b[36malgo-1-4hqw6_1  |\u001b[0m \r\n",
      "\u001b[36malgo-1-4hqw6_1  |\u001b[0m \r\n",
      "\u001b[36malgo-1-4hqw6_1  |\u001b[0m INFO:__main__:tensorflow version info:\r\n",
      "\u001b[36malgo-1-4hqw6_1  |\u001b[0m TensorFlow ModelServer: 2.1.0-rc1+dev.sha.d81097a\r\n",
      "\u001b[36malgo-1-4hqw6_1  |\u001b[0m TensorFlow Library: 2.1.0\r\n",
      "\u001b[36malgo-1-4hqw6_1  |\u001b[0m INFO:__main__:tensorflow serving command: tensorflow_model_server --port=9000 --rest_api_port=8501 --model_config_file=/sagemaker/model-config.cfg --max_num_load_retries=0 \r\n",
      "\u001b[36malgo-1-4hqw6_1  |\u001b[0m INFO:__main__:started tensorflow serving (pid: 8)\r\n",
      "\u001b[36malgo-1-4hqw6_1  |\u001b[0m INFO:__main__:nginx version info:\r\n",
      "\u001b[36malgo-1-4hqw6_1  |\u001b[0m nginx version: nginx/1.16.1\r\n",
      "\u001b[36malgo-1-4hqw6_1  |\u001b[0m built by gcc 7.4.0 (Ubuntu 7.4.0-1ubuntu1~18.04.1) \r\n",
      "\u001b[36malgo-1-4hqw6_1  |\u001b[0m built with OpenSSL 1.1.1  11 Sep 2018\r\n",
      "\u001b[36malgo-1-4hqw6_1  |\u001b[0m TLS SNI support enabled\r\n",
      "\u001b[36malgo-1-4hqw6_1  |\u001b[0m configure arguments: --prefix=/etc/nginx --sbin-path=/usr/sbin/nginx --modules-path=/usr/lib/nginx/modules --conf-path=/etc/nginx/nginx.conf --error-log-path=/var/log/nginx/error.log --http-log-path=/var/log/nginx/access.log --pid-path=/var/run/nginx.pid --lock-path=/var/run/nginx.lock --http-client-body-temp-path=/var/cache/nginx/client_temp --http-proxy-temp-path=/var/cache/nginx/proxy_temp --http-fastcgi-temp-path=/var/cache/nginx/fastcgi_temp --http-uwsgi-temp-path=/var/cache/nginx/uwsgi_temp --http-scgi-temp-path=/var/cache/nginx/scgi_temp --user=nginx --group=nginx --with-compat --with-file-aio --with-threads --with-http_addition_module --with-http_auth_request_module --with-http_dav_module --with-http_flv_module --with-http_gunzip_module --with-http_gzip_static_module --with-http_mp4_module --with-http_random_index_module --with-http_realip_module --with-http_secure_link_module --with-http_slice_module --with-http_ssl_module --with-http_stub_status_module --with-http_sub_module --with-http_v2_module --with-mail --with-mail_ssl_module --with-stream --with-stream_realip_module --with-stream_ssl_module --with-stream_ssl_preread_module --with-cc-opt='-g -O2 -fdebug-prefix-map=/data/builder/debuild/nginx-1.16.1/debian/debuild-base/nginx-1.16.1=. -fstack-protector-strong -Wformat -Werror=format-security -Wp,-D_FORTIFY_SOURCE=2 -fPIC' --with-ld-opt='-Wl,-Bsymbolic-functions -Wl,-z,relro -Wl,-z,now -Wl,--as-needed -pie'\r\n",
      "\u001b[36malgo-1-4hqw6_1  |\u001b[0m INFO:__main__:started nginx (pid: 10)\r\n",
      "\u001b[36malgo-1-4hqw6_1  |\u001b[0m 2020/03/26 00:04:23 [notice] 10#10: using the \"epoll\" event method\r\n",
      "\u001b[36malgo-1-4hqw6_1  |\u001b[0m 2020/03/26 00:04:23 [notice] 10#10: nginx/1.16.1\r\n",
      "\u001b[36malgo-1-4hqw6_1  |\u001b[0m 2020/03/26 00:04:23 [notice] 10#10: built by gcc 7.4.0 (Ubuntu 7.4.0-1ubuntu1~18.04.1) \r\n",
      "\u001b[36malgo-1-4hqw6_1  |\u001b[0m 2020/03/26 00:04:23 [notice] 10#10: OS: Linux 4.14.171-105.231.amzn1.x86_64\r\n",
      "\u001b[36malgo-1-4hqw6_1  |\u001b[0m 2020/03/26 00:04:23 [notice] 10#10: getrlimit(RLIMIT_NOFILE): 1024:4096\r\n",
      "\u001b[36malgo-1-4hqw6_1  |\u001b[0m 2020/03/26 00:04:23 [notice] 10#10: start worker processes\r\n",
      "\u001b[36malgo-1-4hqw6_1  |\u001b[0m 2020/03/26 00:04:23 [notice] 10#10: start worker process 11\r\n",
      "\u001b[36malgo-1-4hqw6_1  |\u001b[0m 2020/03/26 00:04:23 [notice] 10#10: start worker process 12\r\n",
      "\u001b[36malgo-1-4hqw6_1  |\u001b[0m 2020/03/26 00:04:23 [notice] 10#10: start worker process 13\r\n",
      "\u001b[36malgo-1-4hqw6_1  |\u001b[0m 2020/03/26 00:04:23 [notice] 10#10: start worker process 14\r\n",
      "\u001b[36malgo-1-4hqw6_1  |\u001b[0m 2020-03-26 00:04:23.387719: I tensorflow_serving/model_servers/server_core.cc:462] Adding/updating models.\r\n",
      "\u001b[36malgo-1-4hqw6_1  |\u001b[0m 2020-03-26 00:04:23.387754: I tensorflow_serving/model_servers/server_core.cc:573]  (Re-)adding model: model\r\n",
      "\u001b[36malgo-1-4hqw6_1  |\u001b[0m 2020-03-26 00:04:23.488054: I tensorflow_serving/util/retrier.cc:46] Retrying of Reserving resources for servable: {name: model version: 1} exhausted max_num_retries: 0\r\n",
      "\u001b[36malgo-1-4hqw6_1  |\u001b[0m 2020-03-26 00:04:23.488084: I tensorflow_serving/core/basic_manager.cc:739] Successfully reserved resources to load servable {name: model version: 1}\r\n",
      "\u001b[36malgo-1-4hqw6_1  |\u001b[0m 2020-03-26 00:04:23.488093: I tensorflow_serving/core/loader_harness.cc:66] Approving load for servable version {name: model version: 1}\r\n",
      "\u001b[36malgo-1-4hqw6_1  |\u001b[0m 2020-03-26 00:04:23.488111: I tensorflow_serving/core/loader_harness.cc:74] Loading servable version {name: model version: 1}\r\n",
      "\u001b[36malgo-1-4hqw6_1  |\u001b[0m 2020-03-26 00:04:23.488138: I external/org_tensorflow/tensorflow/cc/saved_model/reader.cc:31] Reading SavedModel from: /opt/ml/model/000000001\r\n",
      "\u001b[36malgo-1-4hqw6_1  |\u001b[0m 2020-03-26 00:04:23.489456: I external/org_tensorflow/tensorflow/cc/saved_model/reader.cc:54] Reading meta graph with tags { serve }\r\n",
      "\u001b[36malgo-1-4hqw6_1  |\u001b[0m 2020-03-26 00:04:23.489482: I external/org_tensorflow/tensorflow/cc/saved_model/loader.cc:264] Reading SavedModel debug info (if present) from: /opt/ml/model/000000001\r\n",
      "\u001b[36malgo-1-4hqw6_1  |\u001b[0m 2020-03-26 00:04:23.489563: I external/org_tensorflow/tensorflow/core/platform/cpu_feature_guard.cc:142] Your CPU supports instructions that this TensorFlow binary was not compiled to use: AVX512F\r\n",
      "\u001b[36malgo-1-4hqw6_1  |\u001b[0m 2020-03-26 00:04:23.490450: I external/org_tensorflow/tensorflow/core/common_runtime/process_util.cc:147] Creating new thread pool with default inter op setting: 2. Tune using inter_op_parallelism_threads for best performance.\r\n"
     ]
    },
    {
     "name": "stdout",
     "output_type": "stream",
     "text": [
      "\u001b[36malgo-1-4hqw6_1  |\u001b[0m 2020-03-26 00:04:23.512874: I external/org_tensorflow/tensorflow/cc/saved_model/loader.cc:203] Restoring SavedModel bundle.\n",
      "\u001b[36malgo-1-4hqw6_1  |\u001b[0m 2020-03-26 00:04:23.553347: I external/org_tensorflow/tensorflow/cc/saved_model/loader.cc:152] Running initialization op on SavedModel bundle at path: /opt/ml/model/000000001\n",
      "\u001b[36malgo-1-4hqw6_1  |\u001b[0m 2020-03-26 00:04:23.557914: I external/org_tensorflow/tensorflow/cc/saved_model/loader.cc:333] SavedModel load for tags { serve }; Status: success: OK. Took 69773 microseconds.\n",
      "\u001b[36malgo-1-4hqw6_1  |\u001b[0m 2020-03-26 00:04:23.558298: I tensorflow_serving/servables/tensorflow/saved_model_warmup.cc:105] No warmup data file found at /opt/ml/model/000000001/assets.extra/tf_serving_warmup_requests\n",
      "\u001b[36malgo-1-4hqw6_1  |\u001b[0m 2020-03-26 00:04:23.558584: I tensorflow_serving/util/retrier.cc:46] Retrying of Loading servable: {name: model version: 1} exhausted max_num_retries: 0\n",
      "\u001b[36malgo-1-4hqw6_1  |\u001b[0m 2020-03-26 00:04:23.558602: I tensorflow_serving/core/loader_harness.cc:87] Successfully loaded servable version {name: model version: 1}\n",
      "\u001b[36malgo-1-4hqw6_1  |\u001b[0m 2020-03-26 00:04:23.560340: I tensorflow_serving/model_servers/server.cc:362] Running gRPC ModelServer at 0.0.0.0:9000 ...\n",
      "\u001b[36malgo-1-4hqw6_1  |\u001b[0m [warn] getaddrinfo: address family for nodename not supported\n",
      "\u001b[36malgo-1-4hqw6_1  |\u001b[0m 2020-03-26 00:04:23.561278: I tensorflow_serving/model_servers/server.cc:382] Exporting HTTP/REST API at:localhost:8501 ...\n",
      "\u001b[36malgo-1-4hqw6_1  |\u001b[0m [evhttp_server.cc : 238] NET_LOG: Entering the event loop ...\n",
      "!\u001b[36malgo-1-4hqw6_1  |\u001b[0m 172.18.0.1 - - [26/Mar/2020:00:04:24 +0000] \"GET /ping HTTP/1.1\" 200 0 \"-\" \"-\"\n"
     ]
    }
   ],
   "source": [
    "predictor = estimator.deploy(initial_instance_count=1, instance_type=instance_type)"
   ]
  },
  {
   "cell_type": "markdown",
   "metadata": {},
   "source": [
    "# Invoke the endpoint\n",
    "\n",
    "Let's download the training data and use that as input for inference."
   ]
  },
  {
   "cell_type": "markdown",
   "metadata": {},
   "source": [
    "Examine the prediction result from the TensorFlow 2.1 model."
   ]
  },
  {
   "cell_type": "code",
   "execution_count": 16,
   "metadata": {},
   "outputs": [],
   "source": [
    "df = pd.read_csv(test_file, names=columns)"
   ]
  },
  {
   "cell_type": "code",
   "execution_count": 17,
   "metadata": {},
   "outputs": [
    {
     "data": {
      "text/html": [
       "<div>\n",
       "<style scoped>\n",
       "    .dataframe tbody tr th:only-of-type {\n",
       "        vertical-align: middle;\n",
       "    }\n",
       "\n",
       "    .dataframe tbody tr th {\n",
       "        vertical-align: top;\n",
       "    }\n",
       "\n",
       "    .dataframe thead th {\n",
       "        text-align: right;\n",
       "    }\n",
       "</style>\n",
       "<table border=\"1\" class=\"dataframe\">\n",
       "  <thead>\n",
       "    <tr style=\"text-align: right;\">\n",
       "      <th></th>\n",
       "      <th>encoded_class</th>\n",
       "      <th>sepal_length</th>\n",
       "      <th>sepal_width</th>\n",
       "      <th>petal_length</th>\n",
       "      <th>petal_width</th>\n",
       "    </tr>\n",
       "  </thead>\n",
       "  <tbody>\n",
       "    <tr>\n",
       "      <th>0</th>\n",
       "      <td>1</td>\n",
       "      <td>5.8</td>\n",
       "      <td>2.7</td>\n",
       "      <td>4.1</td>\n",
       "      <td>1.0</td>\n",
       "    </tr>\n",
       "    <tr>\n",
       "      <th>1</th>\n",
       "      <td>0</td>\n",
       "      <td>4.8</td>\n",
       "      <td>3.4</td>\n",
       "      <td>1.6</td>\n",
       "      <td>0.2</td>\n",
       "    </tr>\n",
       "    <tr>\n",
       "      <th>2</th>\n",
       "      <td>1</td>\n",
       "      <td>6.0</td>\n",
       "      <td>2.2</td>\n",
       "      <td>4.0</td>\n",
       "      <td>1.0</td>\n",
       "    </tr>\n",
       "    <tr>\n",
       "      <th>3</th>\n",
       "      <td>2</td>\n",
       "      <td>6.4</td>\n",
       "      <td>3.1</td>\n",
       "      <td>5.5</td>\n",
       "      <td>1.8</td>\n",
       "    </tr>\n",
       "    <tr>\n",
       "      <th>4</th>\n",
       "      <td>2</td>\n",
       "      <td>6.7</td>\n",
       "      <td>2.5</td>\n",
       "      <td>5.8</td>\n",
       "      <td>1.8</td>\n",
       "    </tr>\n",
       "  </tbody>\n",
       "</table>\n",
       "</div>"
      ],
      "text/plain": [
       "   encoded_class  sepal_length  sepal_width  petal_length  petal_width\n",
       "0              1           5.8          2.7           4.1          1.0\n",
       "1              0           4.8          3.4           1.6          0.2\n",
       "2              1           6.0          2.2           4.0          1.0\n",
       "3              2           6.4          3.1           5.5          1.8\n",
       "4              2           6.7          2.5           5.8          1.8"
      ]
     },
     "execution_count": 17,
     "metadata": {},
     "output_type": "execute_result"
    }
   ],
   "source": [
    "df.head()"
   ]
  },
  {
   "cell_type": "code",
   "execution_count": 18,
   "metadata": {},
   "outputs": [
    {
     "name": "stdout",
     "output_type": "stream",
     "text": [
      "[[5.8 2.7 4.1 1. ]\n",
      " [4.8 3.4 1.6 0.2]\n",
      " [6.  2.2 4.  1. ]\n",
      " [6.4 3.1 5.5 1.8]\n",
      " [6.7 2.5 5.8 1.8]]\n"
     ]
    }
   ],
   "source": [
    "X_test = df.iloc[:,1:].values\n",
    "print(X_test[:5])"
   ]
  },
  {
   "cell_type": "code",
   "execution_count": 19,
   "metadata": {},
   "outputs": [
    {
     "name": "stdout",
     "output_type": "stream",
     "text": [
      "\u001b[36malgo-1-4hqw6_1  |\u001b[0m 172.18.0.1 - - [26/Mar/2020:00:04:24 +0000] \"POST /invocations HTTP/1.1\" 200 1996 \"-\" \"-\"\r\n"
     ]
    }
   ],
   "source": [
    "result = predictor.predict(X_test)"
   ]
  },
  {
   "cell_type": "code",
   "execution_count": 20,
   "metadata": {},
   "outputs": [],
   "source": [
    "result =  result['predictions']"
   ]
  },
  {
   "cell_type": "code",
   "execution_count": 21,
   "metadata": {},
   "outputs": [
    {
     "data": {
      "text/plain": [
       "[[0.0135402624, 0.830151558, 0.156308204],\n",
       " [0.981635451, 0.0180889312, 0.000275627972],\n",
       " [0.00603799475, 0.753459215, 0.240502894],\n",
       " [0.000240143432, 0.411161363, 0.58859849],\n",
       " [2.09369719e-05, 0.21806328, 0.781915724]]"
      ]
     },
     "execution_count": 21,
     "metadata": {},
     "output_type": "execute_result"
    }
   ],
   "source": [
    "result[:5]"
   ]
  },
  {
   "cell_type": "code",
   "execution_count": 22,
   "metadata": {},
   "outputs": [],
   "source": [
    "df['predicted_class'] = np.argmax(result,axis=1)"
   ]
  },
  {
   "cell_type": "code",
   "execution_count": 23,
   "metadata": {},
   "outputs": [
    {
     "data": {
      "text/html": [
       "<div>\n",
       "<style scoped>\n",
       "    .dataframe tbody tr th:only-of-type {\n",
       "        vertical-align: middle;\n",
       "    }\n",
       "\n",
       "    .dataframe tbody tr th {\n",
       "        vertical-align: top;\n",
       "    }\n",
       "\n",
       "    .dataframe thead th {\n",
       "        text-align: right;\n",
       "    }\n",
       "</style>\n",
       "<table border=\"1\" class=\"dataframe\">\n",
       "  <thead>\n",
       "    <tr style=\"text-align: right;\">\n",
       "      <th></th>\n",
       "      <th>encoded_class</th>\n",
       "      <th>sepal_length</th>\n",
       "      <th>sepal_width</th>\n",
       "      <th>petal_length</th>\n",
       "      <th>petal_width</th>\n",
       "      <th>predicted_class</th>\n",
       "    </tr>\n",
       "  </thead>\n",
       "  <tbody>\n",
       "    <tr>\n",
       "      <th>0</th>\n",
       "      <td>1</td>\n",
       "      <td>5.8</td>\n",
       "      <td>2.7</td>\n",
       "      <td>4.1</td>\n",
       "      <td>1.0</td>\n",
       "      <td>1</td>\n",
       "    </tr>\n",
       "    <tr>\n",
       "      <th>1</th>\n",
       "      <td>0</td>\n",
       "      <td>4.8</td>\n",
       "      <td>3.4</td>\n",
       "      <td>1.6</td>\n",
       "      <td>0.2</td>\n",
       "      <td>0</td>\n",
       "    </tr>\n",
       "    <tr>\n",
       "      <th>2</th>\n",
       "      <td>1</td>\n",
       "      <td>6.0</td>\n",
       "      <td>2.2</td>\n",
       "      <td>4.0</td>\n",
       "      <td>1.0</td>\n",
       "      <td>1</td>\n",
       "    </tr>\n",
       "    <tr>\n",
       "      <th>3</th>\n",
       "      <td>2</td>\n",
       "      <td>6.4</td>\n",
       "      <td>3.1</td>\n",
       "      <td>5.5</td>\n",
       "      <td>1.8</td>\n",
       "      <td>2</td>\n",
       "    </tr>\n",
       "    <tr>\n",
       "      <th>4</th>\n",
       "      <td>2</td>\n",
       "      <td>6.7</td>\n",
       "      <td>2.5</td>\n",
       "      <td>5.8</td>\n",
       "      <td>1.8</td>\n",
       "      <td>2</td>\n",
       "    </tr>\n",
       "  </tbody>\n",
       "</table>\n",
       "</div>"
      ],
      "text/plain": [
       "   encoded_class  sepal_length  sepal_width  petal_length  petal_width  \\\n",
       "0              1           5.8          2.7           4.1          1.0   \n",
       "1              0           4.8          3.4           1.6          0.2   \n",
       "2              1           6.0          2.2           4.0          1.0   \n",
       "3              2           6.4          3.1           5.5          1.8   \n",
       "4              2           6.7          2.5           5.8          1.8   \n",
       "\n",
       "   predicted_class  \n",
       "0                1  \n",
       "1                0  \n",
       "2                1  \n",
       "3                2  \n",
       "4                2  "
      ]
     },
     "execution_count": 23,
     "metadata": {},
     "output_type": "execute_result"
    }
   ],
   "source": [
    "df.head()"
   ]
  },
  {
   "cell_type": "code",
   "execution_count": 24,
   "metadata": {},
   "outputs": [],
   "source": [
    "from sklearn.metrics import classification_report, confusion_matrix\n",
    "import matplotlib.pyplot as plt\n",
    "import itertools"
   ]
  },
  {
   "cell_type": "code",
   "execution_count": 25,
   "metadata": {},
   "outputs": [],
   "source": [
    "# Encode Class Labels to integers\n",
    "# Labeled Classes\n",
    "labels=[0,1,2]\n",
    "classes = ['Iris-setosa', 'Iris-versicolor', 'Iris-virginica']"
   ]
  },
  {
   "cell_type": "markdown",
   "metadata": {},
   "source": [
    "<h2>Confusion Matrix</h2>\n",
    "Confusion Matrix is a table that summarizes performance of classification model.<br><br>"
   ]
  },
  {
   "cell_type": "code",
   "execution_count": 26,
   "metadata": {},
   "outputs": [],
   "source": [
    "# Reference: \n",
    "# https://scikit-learn.org/stable/auto_examples/model_selection/plot_confusion_matrix.html\n",
    "def plot_confusion_matrix(cm, classes,\n",
    "                          normalize=False,\n",
    "                          title='Confusion matrix',\n",
    "                          cmap=plt.cm.Blues):\n",
    "    \"\"\"\n",
    "    This function prints and plots the confusion matrix.\n",
    "    Normalization can be applied by setting `normalize=True`.\n",
    "    \"\"\"\n",
    "    if normalize:\n",
    "        cm = cm.astype('float') / cm.sum(axis=1)[:, np.newaxis]\n",
    "        #print(\"Normalized confusion matrix\")\n",
    "    #else:\n",
    "    #    print('Confusion matrix, without normalization')\n",
    "\n",
    "    #print(cm)\n",
    "\n",
    "    plt.imshow(cm, interpolation='nearest', cmap=cmap)\n",
    "    plt.title(title)\n",
    "    plt.colorbar()\n",
    "    tick_marks = np.arange(len(classes))\n",
    "    plt.xticks(tick_marks, classes, rotation=45)\n",
    "    plt.yticks(tick_marks, classes)\n",
    "\n",
    "    fmt = '.2f' if normalize else 'd'\n",
    "    thresh = cm.max() / 2.\n",
    "    for i, j in itertools.product(range(cm.shape[0]), range(cm.shape[1])):\n",
    "        plt.text(j, i, format(cm[i, j], fmt),\n",
    "                 horizontalalignment=\"center\",\n",
    "                 color=\"white\" if cm[i, j] > thresh else \"black\")\n",
    "\n",
    "    plt.ylabel('True label')\n",
    "    plt.xlabel('Predicted label')\n",
    "    plt.tight_layout()"
   ]
  },
  {
   "cell_type": "code",
   "execution_count": 27,
   "metadata": {},
   "outputs": [],
   "source": [
    "# Compute confusion matrix\n",
    "cnf_matrix = confusion_matrix(df['encoded_class'],\n",
    "                              df['predicted_class'],labels=labels)"
   ]
  },
  {
   "cell_type": "code",
   "execution_count": 28,
   "metadata": {},
   "outputs": [
    {
     "data": {
      "text/plain": [
       "array([[16,  0,  0],\n",
       "       [ 0,  9,  2],\n",
       "       [ 0,  0, 18]])"
      ]
     },
     "execution_count": 28,
     "metadata": {},
     "output_type": "execute_result"
    }
   ],
   "source": [
    "cnf_matrix"
   ]
  },
  {
   "cell_type": "code",
   "execution_count": 29,
   "metadata": {},
   "outputs": [
    {
     "data": {
      "image/png": "[encoded data removed]",
      "text/plain": [
       "<Figure size 432x288 with 2 Axes>"
      ]
     },
     "metadata": {},
     "output_type": "display_data"
    }
   ],
   "source": [
    "# Plot confusion matrix\n",
    "plt.figure()\n",
    "plot_confusion_matrix(cnf_matrix, classes=classes,\n",
    "                      title='Confusion matrix - Count')"
   ]
  },
  {
   "cell_type": "code",
   "execution_count": 30,
   "metadata": {},
   "outputs": [
    {
     "data": {
      "image/png": "[encoded data removed]",
      "text/plain": [
       "<Figure size 432x288 with 2 Axes>"
      ]
     },
     "metadata": {},
     "output_type": "display_data"
    }
   ],
   "source": [
    "# Plot confusion matrix\n",
    "plt.figure()\n",
    "plot_confusion_matrix(cnf_matrix, classes=classes,\n",
    "                      title='Confusion matrix - Count',normalize=True)"
   ]
  },
  {
   "cell_type": "code",
   "execution_count": 31,
   "metadata": {},
   "outputs": [
    {
     "name": "stdout",
     "output_type": "stream",
     "text": [
      "                 precision    recall  f1-score   support\n",
      "\n",
      "    Iris-setosa       1.00      1.00      1.00        16\n",
      "Iris-versicolor       1.00      0.82      0.90        11\n",
      " Iris-virginica       0.90      1.00      0.95        18\n",
      "\n",
      "       accuracy                           0.96        45\n",
      "      macro avg       0.97      0.94      0.95        45\n",
      "   weighted avg       0.96      0.96      0.95        45\n",
      "\n"
     ]
    }
   ],
   "source": [
    "print(classification_report(\n",
    "    df['encoded_class'],\n",
    "    df['predicted_class'],\n",
    "    labels=labels,\n",
    "    target_names=classes))"
   ]
  },
  {
   "cell_type": "markdown",
   "metadata": {},
   "source": [
    "# Delete the endpoint\n",
    "\n",
    "Let's delete the endpoint we just created to prevent incurring any extra costs."
   ]
  },
  {
   "cell_type": "markdown",
   "metadata": {},
   "source": [
    "Delete the TensorFlow 2.1 endpoint as well."
   ]
  },
  {
   "cell_type": "code",
   "execution_count": 32,
   "metadata": {},
   "outputs": [
    {
     "name": "stdout",
     "output_type": "stream",
     "text": [
      "Gracefully stopping... (press Ctrl+C again to force)\n"
     ]
    }
   ],
   "source": [
    "estimator.delete_endpoint()"
   ]
  },
  {
   "cell_type": "markdown",
   "metadata": {},
   "source": [
    "# Deploy model using artifacts\n",
    "https://sagemaker.readthedocs.io/en/stable/using_tf.html#deploy-to-a-sagemaker-endpoint"
   ]
  },
  {
   "cell_type": "code",
   "execution_count": 33,
   "metadata": {},
   "outputs": [],
   "source": [
    "from sagemaker.tensorflow.serving import Model"
   ]
  },
  {
   "cell_type": "code",
   "execution_count": 34,
   "metadata": {},
   "outputs": [],
   "source": [
    "model_data = estimator.model_data"
   ]
  },
  {
   "cell_type": "code",
   "execution_count": 35,
   "metadata": {},
   "outputs": [
    {
     "data": {
      "text/plain": [
       "'s3://chandra-ml-sagemaker/iris/model/tf-iris-2020-03-25-23-59-57-112/model.tar.gz'"
      ]
     },
     "execution_count": 35,
     "metadata": {},
     "output_type": "execute_result"
    }
   ],
   "source": [
    "model_data"
   ]
  },
  {
   "cell_type": "code",
   "execution_count": 36,
   "metadata": {},
   "outputs": [
    {
     "name": "stdout",
     "output_type": "stream",
     "text": [
      "Attaching to tmp2dnlwiga_algo-1-1wmkz_1\n",
      "\u001b[36malgo-1-1wmkz_1  |\u001b[0m INFO:__main__:starting services\r\n",
      "\u001b[36malgo-1-1wmkz_1  |\u001b[0m INFO:__main__:using default model name: model\r\n",
      "\u001b[36malgo-1-1wmkz_1  |\u001b[0m INFO:__main__:tensorflow serving model config: \r\n",
      "\u001b[36malgo-1-1wmkz_1  |\u001b[0m model_config_list: {\r\n",
      "\u001b[36malgo-1-1wmkz_1  |\u001b[0m   config: {\r\n",
      "\u001b[36malgo-1-1wmkz_1  |\u001b[0m     name: \"model\",\r\n",
      "\u001b[36malgo-1-1wmkz_1  |\u001b[0m     base_path: \"/opt/ml/model\",\r\n",
      "\u001b[36malgo-1-1wmkz_1  |\u001b[0m     model_platform: \"tensorflow\"\r\n",
      "\u001b[36malgo-1-1wmkz_1  |\u001b[0m   }\r\n",
      "\u001b[36malgo-1-1wmkz_1  |\u001b[0m }\r\n",
      "\u001b[36malgo-1-1wmkz_1  |\u001b[0m \r\n",
      "\u001b[36malgo-1-1wmkz_1  |\u001b[0m \r\n",
      "\u001b[36malgo-1-1wmkz_1  |\u001b[0m INFO:__main__:nginx config: \r\n",
      "\u001b[36malgo-1-1wmkz_1  |\u001b[0m load_module modules/ngx_http_js_module.so;\r\n",
      "\u001b[36malgo-1-1wmkz_1  |\u001b[0m \r\n",
      "\u001b[36malgo-1-1wmkz_1  |\u001b[0m worker_processes auto;\r\n",
      "\u001b[36malgo-1-1wmkz_1  |\u001b[0m daemon off;\r\n",
      "\u001b[36malgo-1-1wmkz_1  |\u001b[0m pid /tmp/nginx.pid;\r\n",
      "\u001b[36malgo-1-1wmkz_1  |\u001b[0m error_log  /dev/stderr error;\r\n",
      "\u001b[36malgo-1-1wmkz_1  |\u001b[0m \r\n",
      "\u001b[36malgo-1-1wmkz_1  |\u001b[0m worker_rlimit_nofile 4096;\r\n",
      "\u001b[36malgo-1-1wmkz_1  |\u001b[0m \r\n",
      "\u001b[36malgo-1-1wmkz_1  |\u001b[0m events {\r\n",
      "\u001b[36malgo-1-1wmkz_1  |\u001b[0m   worker_connections 2048;\r\n",
      "\u001b[36malgo-1-1wmkz_1  |\u001b[0m }\r\n",
      "\u001b[36malgo-1-1wmkz_1  |\u001b[0m \r\n",
      "\u001b[36malgo-1-1wmkz_1  |\u001b[0m http {\r\n",
      "\u001b[36malgo-1-1wmkz_1  |\u001b[0m   include /etc/nginx/mime.types;\r\n",
      "\u001b[36malgo-1-1wmkz_1  |\u001b[0m   default_type application/json;\r\n",
      "\u001b[36malgo-1-1wmkz_1  |\u001b[0m   access_log /dev/stdout combined;\r\n",
      "\u001b[36malgo-1-1wmkz_1  |\u001b[0m   js_include tensorflow-serving.js;\r\n",
      "\u001b[36malgo-1-1wmkz_1  |\u001b[0m \r\n",
      "\u001b[36malgo-1-1wmkz_1  |\u001b[0m   upstream tfs_upstream {\r\n",
      "\u001b[36malgo-1-1wmkz_1  |\u001b[0m     server localhost:8501;\r\n",
      "\u001b[36malgo-1-1wmkz_1  |\u001b[0m   }\r\n",
      "\u001b[36malgo-1-1wmkz_1  |\u001b[0m \r\n",
      "\u001b[36malgo-1-1wmkz_1  |\u001b[0m   upstream gunicorn_upstream {\r\n",
      "\u001b[36malgo-1-1wmkz_1  |\u001b[0m     server unix:/tmp/gunicorn.sock fail_timeout=1;\r\n",
      "\u001b[36malgo-1-1wmkz_1  |\u001b[0m   }\r\n",
      "\u001b[36malgo-1-1wmkz_1  |\u001b[0m \r\n",
      "\u001b[36malgo-1-1wmkz_1  |\u001b[0m   server {\r\n",
      "\u001b[36malgo-1-1wmkz_1  |\u001b[0m     listen 8080 deferred;\r\n",
      "\u001b[36malgo-1-1wmkz_1  |\u001b[0m     client_max_body_size 0;\r\n",
      "\u001b[36malgo-1-1wmkz_1  |\u001b[0m     client_body_buffer_size 100m;\r\n",
      "\u001b[36malgo-1-1wmkz_1  |\u001b[0m     subrequest_output_buffer_size 100m;\r\n",
      "\u001b[36malgo-1-1wmkz_1  |\u001b[0m \r\n",
      "\u001b[36malgo-1-1wmkz_1  |\u001b[0m     set $tfs_version 2.1;\r\n",
      "\u001b[36malgo-1-1wmkz_1  |\u001b[0m     set $default_tfs_model model;\r\n",
      "\u001b[36malgo-1-1wmkz_1  |\u001b[0m \r\n",
      "\u001b[36malgo-1-1wmkz_1  |\u001b[0m     location /tfs {\r\n",
      "\u001b[36malgo-1-1wmkz_1  |\u001b[0m         rewrite ^/tfs/(.*) /$1  break;\r\n",
      "\u001b[36malgo-1-1wmkz_1  |\u001b[0m         proxy_redirect off;\r\n",
      "\u001b[36malgo-1-1wmkz_1  |\u001b[0m         proxy_pass_request_headers off;\r\n",
      "\u001b[36malgo-1-1wmkz_1  |\u001b[0m         proxy_set_header Content-Type 'application/json';\r\n",
      "\u001b[36malgo-1-1wmkz_1  |\u001b[0m         proxy_set_header Accept 'application/json';\r\n",
      "\u001b[36malgo-1-1wmkz_1  |\u001b[0m         proxy_pass http://tfs_upstream;\r\n",
      "\u001b[36malgo-1-1wmkz_1  |\u001b[0m     }\r\n",
      "\u001b[36malgo-1-1wmkz_1  |\u001b[0m \r\n",
      "\u001b[36malgo-1-1wmkz_1  |\u001b[0m     location /ping {\r\n",
      "\u001b[36malgo-1-1wmkz_1  |\u001b[0m         js_content ping_without_model;\r\n",
      "\u001b[36malgo-1-1wmkz_1  |\u001b[0m     }\r\n",
      "\u001b[36malgo-1-1wmkz_1  |\u001b[0m \r\n",
      "\u001b[36malgo-1-1wmkz_1  |\u001b[0m     location /invocations {\r\n",
      "\u001b[36malgo-1-1wmkz_1  |\u001b[0m         js_content invocations;\r\n",
      "\u001b[36malgo-1-1wmkz_1  |\u001b[0m     }\r\n",
      "\u001b[36malgo-1-1wmkz_1  |\u001b[0m \r\n",
      "\u001b[36malgo-1-1wmkz_1  |\u001b[0m     location ~ ^/models/(.*)/invoke {\r\n",
      "\u001b[36malgo-1-1wmkz_1  |\u001b[0m         js_content invocations;\r\n",
      "\u001b[36malgo-1-1wmkz_1  |\u001b[0m     }\r\n",
      "\u001b[36malgo-1-1wmkz_1  |\u001b[0m \r\n",
      "\u001b[36malgo-1-1wmkz_1  |\u001b[0m     location /models {\r\n",
      "\u001b[36malgo-1-1wmkz_1  |\u001b[0m         proxy_pass http://gunicorn_upstream/models;\r\n",
      "\u001b[36malgo-1-1wmkz_1  |\u001b[0m     }\r\n",
      "\u001b[36malgo-1-1wmkz_1  |\u001b[0m \r\n",
      "\u001b[36malgo-1-1wmkz_1  |\u001b[0m     location / {\r\n",
      "\u001b[36malgo-1-1wmkz_1  |\u001b[0m         return 404 '{\"error\": \"Not Found\"}';\r\n",
      "\u001b[36malgo-1-1wmkz_1  |\u001b[0m     }\r\n",
      "\u001b[36malgo-1-1wmkz_1  |\u001b[0m \r\n",
      "\u001b[36malgo-1-1wmkz_1  |\u001b[0m     keepalive_timeout 3;\r\n",
      "\u001b[36malgo-1-1wmkz_1  |\u001b[0m   }\r\n",
      "\u001b[36malgo-1-1wmkz_1  |\u001b[0m }\r\n",
      "\u001b[36malgo-1-1wmkz_1  |\u001b[0m \r\n",
      "\u001b[36malgo-1-1wmkz_1  |\u001b[0m \r\n",
      "\u001b[36malgo-1-1wmkz_1  |\u001b[0m INFO:__main__:tensorflow version info:\r\n",
      "\u001b[36malgo-1-1wmkz_1  |\u001b[0m TensorFlow ModelServer: 2.1.0-rc1+dev.sha.d81097a\r\n",
      "\u001b[36malgo-1-1wmkz_1  |\u001b[0m TensorFlow Library: 2.1.0\r\n",
      "\u001b[36malgo-1-1wmkz_1  |\u001b[0m INFO:__main__:tensorflow serving command: tensorflow_model_server --port=9000 --rest_api_port=8501 --model_config_file=/sagemaker/model-config.cfg --max_num_load_retries=0 \r\n",
      "\u001b[36malgo-1-1wmkz_1  |\u001b[0m INFO:__main__:started tensorflow serving (pid: 8)\r\n",
      "\u001b[36malgo-1-1wmkz_1  |\u001b[0m INFO:__main__:nginx version info:\r\n",
      "\u001b[36malgo-1-1wmkz_1  |\u001b[0m nginx version: nginx/1.16.1\r\n",
      "\u001b[36malgo-1-1wmkz_1  |\u001b[0m built by gcc 7.4.0 (Ubuntu 7.4.0-1ubuntu1~18.04.1) \r\n",
      "\u001b[36malgo-1-1wmkz_1  |\u001b[0m built with OpenSSL 1.1.1  11 Sep 2018\r\n",
      "\u001b[36malgo-1-1wmkz_1  |\u001b[0m TLS SNI support enabled\r\n",
      "\u001b[36malgo-1-1wmkz_1  |\u001b[0m configure arguments: --prefix=/etc/nginx --sbin-path=/usr/sbin/nginx --modules-path=/usr/lib/nginx/modules --conf-path=/etc/nginx/nginx.conf --error-log-path=/var/log/nginx/error.log --http-log-path=/var/log/nginx/access.log --pid-path=/var/run/nginx.pid --lock-path=/var/run/nginx.lock --http-client-body-temp-path=/var/cache/nginx/client_temp --http-proxy-temp-path=/var/cache/nginx/proxy_temp --http-fastcgi-temp-path=/var/cache/nginx/fastcgi_temp --http-uwsgi-temp-path=/var/cache/nginx/uwsgi_temp --http-scgi-temp-path=/var/cache/nginx/scgi_temp --user=nginx --group=nginx --with-compat --with-file-aio --with-threads --with-http_addition_module --with-http_auth_request_module --with-http_dav_module --with-http_flv_module --with-http_gunzip_module --with-http_gzip_static_module --with-http_mp4_module --with-http_random_index_module --with-http_realip_module --with-http_secure_link_module --with-http_slice_module --with-http_ssl_module --with-http_stub_status_module --with-http_sub_module --with-http_v2_module --with-mail --with-mail_ssl_module --with-stream --with-stream_realip_module --with-stream_ssl_module --with-stream_ssl_preread_module --with-cc-opt='-g -O2 -fdebug-prefix-map=/data/builder/debuild/nginx-1.16.1/debian/debuild-base/nginx-1.16.1=. -fstack-protector-strong -Wformat -Werror=format-security -Wp,-D_FORTIFY_SOURCE=2 -fPIC' --with-ld-opt='-Wl,-Bsymbolic-functions -Wl,-z,relro -Wl,-z,now -Wl,--as-needed -pie'\r\n",
      "\u001b[36malgo-1-1wmkz_1  |\u001b[0m INFO:__main__:started nginx (pid: 10)\r\n",
      "\u001b[36malgo-1-1wmkz_1  |\u001b[0m 2020-03-26 00:06:39.443748: I tensorflow_serving/model_servers/server_core.cc:462] Adding/updating models.\r\n",
      "\u001b[36malgo-1-1wmkz_1  |\u001b[0m 2020-03-26 00:06:39.443784: I tensorflow_serving/model_servers/server_core.cc:573]  (Re-)adding model: model\r\n",
      "\u001b[36malgo-1-1wmkz_1  |\u001b[0m 2020-03-26 00:06:39.544072: I tensorflow_serving/util/retrier.cc:46] Retrying of Reserving resources for servable: {name: model version: 1} exhausted max_num_retries: 0\r\n",
      "\u001b[36malgo-1-1wmkz_1  |\u001b[0m 2020-03-26 00:06:39.544101: I tensorflow_serving/core/basic_manager.cc:739] Successfully reserved resources to load servable {name: model version: 1}\r\n",
      "\u001b[36malgo-1-1wmkz_1  |\u001b[0m 2020-03-26 00:06:39.544107: I tensorflow_serving/core/loader_harness.cc:66] Approving load for servable version {name: model version: 1}\r\n",
      "\u001b[36malgo-1-1wmkz_1  |\u001b[0m 2020-03-26 00:06:39.544120: I tensorflow_serving/core/loader_harness.cc:74] Loading servable version {name: model version: 1}\r\n",
      "\u001b[36malgo-1-1wmkz_1  |\u001b[0m 2020-03-26 00:06:39.544145: I external/org_tensorflow/tensorflow/cc/saved_model/reader.cc:31] Reading SavedModel from: /opt/ml/model/000000001\r\n",
      "\u001b[36malgo-1-1wmkz_1  |\u001b[0m 2020-03-26 00:06:39.545299: I external/org_tensorflow/tensorflow/cc/saved_model/reader.cc:54] Reading meta graph with tags { serve }\r\n",
      "\u001b[36malgo-1-1wmkz_1  |\u001b[0m 2020-03-26 00:06:39.545321: I external/org_tensorflow/tensorflow/cc/saved_model/loader.cc:264] Reading SavedModel debug info (if present) from: /opt/ml/model/000000001\r\n",
      "\u001b[36malgo-1-1wmkz_1  |\u001b[0m 2020-03-26 00:06:39.545424: I external/org_tensorflow/tensorflow/core/platform/cpu_feature_guard.cc:142] Your CPU supports instructions that this TensorFlow binary was not compiled to use: AVX512F\r\n",
      "\u001b[36malgo-1-1wmkz_1  |\u001b[0m 2020-03-26 00:06:39.546251: I external/org_tensorflow/tensorflow/core/common_runtime/process_util.cc:147] Creating new thread pool with default inter op setting: 2. Tune using inter_op_parallelism_threads for best performance.\r\n"
     ]
    },
    {
     "name": "stdout",
     "output_type": "stream",
     "text": [
      "\u001b[36malgo-1-1wmkz_1  |\u001b[0m 2020-03-26 00:06:39.570984: I external/org_tensorflow/tensorflow/cc/saved_model/loader.cc:203] Restoring SavedModel bundle.\n",
      "\u001b[36malgo-1-1wmkz_1  |\u001b[0m 2020-03-26 00:06:39.613292: I external/org_tensorflow/tensorflow/cc/saved_model/loader.cc:152] Running initialization op on SavedModel bundle at path: /opt/ml/model/000000001\n",
      "\u001b[36malgo-1-1wmkz_1  |\u001b[0m 2020-03-26 00:06:39.617728: I external/org_tensorflow/tensorflow/cc/saved_model/loader.cc:333] SavedModel load for tags { serve }; Status: success: OK. Took 73581 microseconds.\n",
      "\u001b[36malgo-1-1wmkz_1  |\u001b[0m 2020-03-26 00:06:39.618125: I tensorflow_serving/servables/tensorflow/saved_model_warmup.cc:105] No warmup data file found at /opt/ml/model/000000001/assets.extra/tf_serving_warmup_requests\n",
      "\u001b[36malgo-1-1wmkz_1  |\u001b[0m 2020-03-26 00:06:39.618436: I tensorflow_serving/util/retrier.cc:46] Retrying of Loading servable: {name: model version: 1} exhausted max_num_retries: 0\n",
      "\u001b[36malgo-1-1wmkz_1  |\u001b[0m 2020-03-26 00:06:39.618452: I tensorflow_serving/core/loader_harness.cc:87] Successfully loaded servable version {name: model version: 1}\n",
      "\u001b[36malgo-1-1wmkz_1  |\u001b[0m 2020-03-26 00:06:39.620310: I tensorflow_serving/model_servers/server.cc:362] Running gRPC ModelServer at 0.0.0.0:9000 ...\n",
      "\u001b[36malgo-1-1wmkz_1  |\u001b[0m [warn] getaddrinfo: address family for nodename not supported\n",
      "\u001b[36malgo-1-1wmkz_1  |\u001b[0m 2020-03-26 00:06:39.621283: I tensorflow_serving/model_servers/server.cc:382] Exporting HTTP/REST API at:localhost:8501 ...\n",
      "\u001b[36malgo-1-1wmkz_1  |\u001b[0m [evhttp_server.cc : 238] NET_LOG: Entering the event loop ...\n",
      "!\u001b[36malgo-1-1wmkz_1  |\u001b[0m 172.18.0.1 - - [26/Mar/2020:00:06:43 +0000] \"GET /ping HTTP/1.1\" 200 0 \"-\" \"-\"\n"
     ]
    }
   ],
   "source": [
    "model = Model(model_data=model_data, role=role,framework_version='2.1.0')\n",
    "predictor = model.deploy(initial_instance_count=1, instance_type=instance_type)"
   ]
  },
  {
   "cell_type": "code",
   "execution_count": 37,
   "metadata": {},
   "outputs": [
    {
     "data": {
      "text/plain": [
       "array([[5.8, 2.7, 4.1, 1. ],\n",
       "       [4.8, 3.4, 1.6, 0.2],\n",
       "       [6. , 2.2, 4. , 1. ],\n",
       "       [6.4, 3.1, 5.5, 1.8],\n",
       "       [6.7, 2.5, 5.8, 1.8]])"
      ]
     },
     "execution_count": 37,
     "metadata": {},
     "output_type": "execute_result"
    }
   ],
   "source": [
    "X_test[:5]"
   ]
  },
  {
   "cell_type": "code",
   "execution_count": 38,
   "metadata": {},
   "outputs": [
    {
     "name": "stdout",
     "output_type": "stream",
     "text": [
      "\u001b[36malgo-1-1wmkz_1  |\u001b[0m 172.18.0.1 - - [26/Mar/2020:00:06:55 +0000] \"POST /invocations HTTP/1.1\" 200 244 \"-\" \"-\"\r\n"
     ]
    },
    {
     "data": {
      "text/plain": [
       "{'predictions': [[0.0135402624, 0.830151558, 0.156308204],\n",
       "  [0.981635451, 0.0180889312, 0.000275627972],\n",
       "  [0.00603799475, 0.753459215, 0.240502894],\n",
       "  [0.000240143432, 0.411161363, 0.58859849],\n",
       "  [2.09369719e-05, 0.21806328, 0.781915724]]}"
      ]
     },
     "execution_count": 38,
     "metadata": {},
     "output_type": "execute_result"
    }
   ],
   "source": [
    "predictor.predict(X_test[:5])"
   ]
  },
  {
   "cell_type": "code",
   "execution_count": 39,
   "metadata": {},
   "outputs": [
    {
     "name": "stdout",
     "output_type": "stream",
     "text": [
      "Gracefully stopping... (press Ctrl+C again to force)\n"
     ]
    }
   ],
   "source": [
    "predictor.delete_endpoint()"
   ]
  },
  {
   "cell_type": "code",
   "execution_count": null,
   "metadata": {},
   "outputs": [],
   "source": []
  }
 ],
 "metadata": {
  "kernelspec": {
   "display_name": "conda_tensorflow_p36",
   "language": "python",
   "name": "conda_tensorflow_p36"
  },
  "language_info": {
   "codemirror_mode": {
    "name": "ipython",
    "version": 3
   },
   "file_extension": ".py",
   "mimetype": "text/x-python",
   "name": "python",
   "nbconvert_exporter": "python",
   "pygments_lexer": "ipython3",
   "version": "3.6.6"
  },
  "notice": "Copyright 2017 Amazon.com, Inc. or its affiliates. All Rights Reserved.  Licensed under the Apache License, Version 2.0 (the \"License\"). You may not use this file except in compliance with the License. A copy of the License is located at http://aws.amazon.com/apache2.0/ or in the \"license\" file accompanying this file. This file is distributed on an \"AS IS\" BASIS, WITHOUT WARRANTIES OR CONDITIONS OF ANY KIND, either express or implied. See the License for the specific language governing permissions and limitations under the License."
 },
 "nbformat": 4,
 "nbformat_minor": 2
}
