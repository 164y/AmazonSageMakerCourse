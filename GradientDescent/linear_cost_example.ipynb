{
 "cells": [
  {
   "cell_type": "markdown",
   "metadata": {},
   "source": [
    "<h4>Gradient Descent Overview</h4>\n",
    "<ul>\n",
    "<li>Linear Model. Estimated Target = w<sub>0</sub> + w<sub>1</sub>x<sub>1</sub> \n",
    "+ w<sub>2</sub>x<sub>2</sub> + w<sub>3</sub>x<sub>3</sub> \n",
    "+ … + w<sub>n</sub>x<sub>n</sub><br>\n",
    "where, w is the weight and x is the feature\n",
    "</li>\n",
    "<li>Predicted Value: Numeric</li>\n",
    "<li>Algorithm Used: Linear Regression. Objective is to find the weights w</li>\n",
    "<li>Optimization: Gradient Descent. Seeks to minimize loss/cost so that predicted value is as close to actual as possible</li>\n",
    "<li>Cost/Loss Calculation: Squared loss function</li>\n",
    "</ul>"
   ]
  },
  {
   "cell_type": "code",
   "execution_count": 1,
   "metadata": {},
   "outputs": [],
   "source": [
    "import sys\n",
    "import numpy as np\n",
    "import pandas as pd\n",
    "import matplotlib.pyplot as plt\n",
    "import math\n",
    "import os"
   ]
  },
  {
   "cell_type": "markdown",
   "metadata": {},
   "source": [
    "Input Feature: x  \n",
    "\n",
    "Target: 5*x + 8 + some noise"
   ]
  },
  {
   "cell_type": "code",
   "execution_count": 2,
   "metadata": {},
   "outputs": [],
   "source": [
    "# True Function\n",
    "def straight_line(x):\n",
    "    return 5*x + 8"
   ]
  },
  {
   "cell_type": "code",
   "execution_count": 3,
   "metadata": {},
   "outputs": [],
   "source": [
    "# Estimate predicted value for a given weight\n",
    "def predicted_at_weight(weight0, weight1, x):\n",
    "    return weight1*x + weight0"
   ]
  },
  {
   "cell_type": "code",
   "execution_count": 4,
   "metadata": {},
   "outputs": [],
   "source": [
    "np.random.seed(5)\n",
    "\n",
    "samples = 150\n",
    "x = pd.Series(np.arange(0,150))\n",
    "y = x.map(straight_line) + np.random.randn(samples)*10"
   ]
  },
  {
   "cell_type": "code",
   "execution_count": 5,
   "metadata": {},
   "outputs": [],
   "source": [
    "df = pd.DataFrame({'x':x,'y':y})"
   ]
  },
  {
   "cell_type": "code",
   "execution_count": 6,
   "metadata": {},
   "outputs": [
    {
     "data": {
      "text/html": [
       "<div>\n",
       "<style scoped>\n",
       "    .dataframe tbody tr th:only-of-type {\n",
       "        vertical-align: middle;\n",
       "    }\n",
       "\n",
       "    .dataframe tbody tr th {\n",
       "        vertical-align: top;\n",
       "    }\n",
       "\n",
       "    .dataframe thead th {\n",
       "        text-align: right;\n",
       "    }\n",
       "</style>\n",
       "<table border=\"1\" class=\"dataframe\">\n",
       "  <thead>\n",
       "    <tr style=\"text-align: right;\">\n",
       "      <th></th>\n",
       "      <th>x</th>\n",
       "      <th>y</th>\n",
       "    </tr>\n",
       "  </thead>\n",
       "  <tbody>\n",
       "    <tr>\n",
       "      <th>0</th>\n",
       "      <td>0</td>\n",
       "      <td>12.412275</td>\n",
       "    </tr>\n",
       "    <tr>\n",
       "      <th>1</th>\n",
       "      <td>1</td>\n",
       "      <td>9.691298</td>\n",
       "    </tr>\n",
       "    <tr>\n",
       "      <th>2</th>\n",
       "      <td>2</td>\n",
       "      <td>42.307712</td>\n",
       "    </tr>\n",
       "    <tr>\n",
       "      <th>3</th>\n",
       "      <td>3</td>\n",
       "      <td>20.479079</td>\n",
       "    </tr>\n",
       "    <tr>\n",
       "      <th>4</th>\n",
       "      <td>4</td>\n",
       "      <td>29.096098</td>\n",
       "    </tr>\n",
       "  </tbody>\n",
       "</table>\n",
       "</div>"
      ],
      "text/plain": [
       "   x          y\n",
       "0  0  12.412275\n",
       "1  1   9.691298\n",
       "2  2  42.307712\n",
       "3  3  20.479079\n",
       "4  4  29.096098"
      ]
     },
     "execution_count": 6,
     "metadata": {},
     "output_type": "execute_result"
    }
   ],
   "source": [
    "# One Feature example\n",
    "# Training Set - Contains several examples of feature 'x' and corresponding correct answer 'y'\n",
    "# Objective is to find out the form y = w0 + w1*x1\n",
    "df.head()"
   ]
  },
  {
   "cell_type": "code",
   "execution_count": 7,
   "metadata": {},
   "outputs": [
    {
     "data": {
      "text/html": [
       "<div>\n",
       "<style scoped>\n",
       "    .dataframe tbody tr th:only-of-type {\n",
       "        vertical-align: middle;\n",
       "    }\n",
       "\n",
       "    .dataframe tbody tr th {\n",
       "        vertical-align: top;\n",
       "    }\n",
       "\n",
       "    .dataframe thead th {\n",
       "        text-align: right;\n",
       "    }\n",
       "</style>\n",
       "<table border=\"1\" class=\"dataframe\">\n",
       "  <thead>\n",
       "    <tr style=\"text-align: right;\">\n",
       "      <th></th>\n",
       "      <th>x</th>\n",
       "      <th>y</th>\n",
       "    </tr>\n",
       "  </thead>\n",
       "  <tbody>\n",
       "    <tr>\n",
       "      <th>145</th>\n",
       "      <td>145</td>\n",
       "      <td>741.771528</td>\n",
       "    </tr>\n",
       "    <tr>\n",
       "      <th>146</th>\n",
       "      <td>146</td>\n",
       "      <td>737.061676</td>\n",
       "    </tr>\n",
       "    <tr>\n",
       "      <th>147</th>\n",
       "      <td>147</td>\n",
       "      <td>742.443290</td>\n",
       "    </tr>\n",
       "    <tr>\n",
       "      <th>148</th>\n",
       "      <td>148</td>\n",
       "      <td>739.105793</td>\n",
       "    </tr>\n",
       "    <tr>\n",
       "      <th>149</th>\n",
       "      <td>149</td>\n",
       "      <td>739.990485</td>\n",
       "    </tr>\n",
       "  </tbody>\n",
       "</table>\n",
       "</div>"
      ],
      "text/plain": [
       "       x           y\n",
       "145  145  741.771528\n",
       "146  146  737.061676\n",
       "147  147  742.443290\n",
       "148  148  739.105793\n",
       "149  149  739.990485"
      ]
     },
     "execution_count": 7,
     "metadata": {},
     "output_type": "execute_result"
    }
   ],
   "source": [
    "df.tail()"
   ]
  },
  {
   "cell_type": "code",
   "execution_count": 8,
   "metadata": {},
   "outputs": [
    {
     "data": {
      "image/png": "[encoded data removed]",
      "text/plain": [
       "<Figure size 432x288 with 1 Axes>"
      ]
     },
     "metadata": {
      "needs_background": "light"
     },
     "output_type": "display_data"
    }
   ],
   "source": [
    "plt.plot(df.x,df.y,label='Target')\n",
    "plt.grid(True)\n",
    "plt.xlabel('Input Feature')\n",
    "plt.ylabel('Target')\n",
    "plt.legend()\n",
    "plt.show()"
   ]
  },
  {
   "cell_type": "markdown",
   "metadata": {},
   "source": [
    "<h4>Predict Y for different weights</h4>"
   ]
  },
  {
   "cell_type": "code",
   "execution_count": 38,
   "metadata": {},
   "outputs": [],
   "source": [
    "# True function weight is  w1 = 5 and w0 = 8.  5*x + 8\n",
    "w0 = [10,3,10,15,100]\n",
    "w1 = [0,19,25,6,3]"
   ]
  },
  {
   "cell_type": "code",
   "execution_count": 39,
   "metadata": {},
   "outputs": [],
   "source": [
    "y_predicted = {}\n",
    "for i in range(len(w1)):\n",
    "    y_predicted['{0}-{1}'.format(w0[i],w1[i])] = predicted_at_weight(w0[i],w1[i], x)"
   ]
  },
  {
   "cell_type": "code",
   "execution_count": 40,
   "metadata": {},
   "outputs": [
    {
     "data": {
      "image/png": "[encoded data removed]",
      "text/plain": [
       "<Figure size 432x288 with 1 Axes>"
      ]
     },
     "metadata": {
      "needs_background": "light"
     },
     "output_type": "display_data"
    }
   ],
   "source": [
    "plt.plot(x,y,label='ground truth')\n",
    "\n",
    "for w in y_predicted.keys():\n",
    "    plt.plot(x,y_predicted[w],label=w)\n",
    "\n",
    "plt.xlim(0,100)\n",
    "plt.ylim(0,700)\n",
    "plt.xlabel('Feature')\n",
    "plt.ylabel('Predicted')\n",
    "plt.title('Predicted Output for different weights')\n",
    "plt.legend()\n",
    "plt.show()"
   ]
  },
  {
   "cell_type": "markdown",
   "metadata": {},
   "source": [
    "<h4>Squared Loss</h4>"
   ]
  },
  {
   "cell_type": "code",
   "execution_count": 41,
   "metadata": {},
   "outputs": [
    {
     "name": "stdout",
     "output_type": "stream",
     "text": [
      "Weight:10-0\tLoss:  184575.00\n",
      "Weight:3-19\tLoss: 1444121.26\n",
      "Weight:10-25\tLoss: 2974822.07\n",
      "Weight:15-6\tLoss:    8549.24\n",
      "Weight:100-3\tLoss:   10874.60\n"
     ]
    }
   ],
   "source": [
    "for w in y_predicted.keys():\n",
    "    squared_loss = (y-y_predicted[w])**2\n",
    "    print('Weight:{0}\\tLoss: {1:10.2f}'.format(w, squared_loss.mean()))"
   ]
  },
  {
   "cell_type": "markdown",
   "metadata": {},
   "source": [
    "<h4>Plot Loss at different weights for x</h4>"
   ]
  },
  {
   "cell_type": "code",
   "execution_count": 16,
   "metadata": {},
   "outputs": [],
   "source": [
    "# For a set of weights, let's find out loss or cost\n",
    "# True Function: 5x+8\n",
    "# Linear Regression algorithm iteratively tries to find the correct weight for x.\n",
    "# Let's test how the lost changes at different weights for x.\n",
    "\n",
    "# In this example, let's see how the \"loss\" changes for different weights\n",
    "weight = pd.Series(np.linspace(3,7,100))"
   ]
  },
  {
   "cell_type": "code",
   "execution_count": 17,
   "metadata": {},
   "outputs": [
    {
     "name": "stdout",
     "output_type": "stream",
     "text": [
      "0    3.000000\n",
      "1    3.040404\n",
      "2    3.080808\n",
      "3    3.121212\n",
      "4    3.161616\n",
      "dtype: float64\n",
      "\n",
      "95    6.838384\n",
      "96    6.878788\n",
      "97    6.919192\n",
      "98    6.959596\n",
      "99    7.000000\n",
      "dtype: float64\n"
     ]
    }
   ],
   "source": [
    "print(weight[:5])\n",
    "print()\n",
    "print(weight[-5:])"
   ]
  },
  {
   "cell_type": "markdown",
   "metadata": {},
   "source": [
    "<h4>Compute Loss using Squared Loss Function</h4>\n",
    "<h4>loss = average((true - predicted)^2)</h4>"
   ]
  },
  {
   "cell_type": "code",
   "execution_count": 18,
   "metadata": {},
   "outputs": [],
   "source": [
    "# Cost/Loss Calculation: Squared loss function...a measure of how far is predicted value from actual\n",
    "# Steps :\n",
    "\n",
    "#  For every weight for feature x, predict y\n",
    "#  Now, find out loss by = average ((actual - predicted)**2)\n",
    "\n",
    "loss_at_wt = []\n",
    "for w1 in weight:\n",
    "    y_predicted = predicted_at_weight(8,w1,x)\n",
    "    \n",
    "    squared_error = (y - y_predicted)**2\n",
    "    \n",
    "    # Average Squared Error at weight w1\n",
    "    loss_at_wt.append(squared_error.mean())"
   ]
  },
  {
   "cell_type": "code",
   "execution_count": 19,
   "metadata": {},
   "outputs": [
    {
     "data": {
      "text/plain": [
       "107.87912518145515"
      ]
     },
     "execution_count": 19,
     "metadata": {},
     "output_type": "execute_result"
    }
   ],
   "source": [
    "min(loss_at_wt)"
   ]
  },
  {
   "cell_type": "code",
   "execution_count": 20,
   "metadata": {},
   "outputs": [
    {
     "data": {
      "image/png": "[encoded data removed]",
      "text/plain": [
       "<Figure size 432x288 with 1 Axes>"
      ]
     },
     "metadata": {
      "needs_background": "light"
     },
     "output_type": "display_data"
    }
   ],
   "source": [
    "plt.scatter(x=weight, y=loss_at_wt)\n",
    "plt.grid(True)\n",
    "plt.xlabel('Weight for feature x')\n",
    "plt.ylabel('Loss')\n",
    "plt.title('Loss Curve - Loss at different weight')\n",
    "plt.show()"
   ]
  },
  {
   "cell_type": "markdown",
   "metadata": {
    "collapsed": true
   },
   "source": [
    "<h4>Summary</h4>\n",
    "<h4>Squared Loss Function</h4>\n",
    "Squared Loss is the average of the squared difference between predicted and actual value.  This loss function not only gives us loss at a given weight; it also tells us which direction to go to minimize loss.<br>\n",
    "For a given weight, the algorithm finds the slope\n",
    "<ul>\n",
    "<li>If the slope is negative, then increase the weight</li>\n",
    "<li>If the slope is positive, then decrease the weight</li>\n",
    "</ul>\n",
    "\n",
    "<h4>Learning Rate</h4>\n",
    "Learning Rate parameter controls how much the weight should be increased or decreased<br>\n",
    "Too big of a change, the algorithm will skip the point where loss is minimal<br>\n",
    "Too small of a change, the algorithm will take several iterations to find the optimal weight<br>\n",
    "\n",
    "\n",
    "<h4>Gradient Descent</h4>\n",
    "Gradient Descent optimization computes the loss and slope, then adjusts the weights of all the features.<br>\n",
    "It iterates this process until it finds the optimal weight.<br>\n",
    "There are three flavors of Gradient descent:<br>\n",
    "\n",
    "<h4>Batch Gradient Descent</h4>\n",
    "Batch gradient descent computes loss for all examples in the training set and then adjusts the weight<br>\n",
    "It repeats this process for every iteration.<br>\n",
    "This process can be slow to converge when you have a large training data set<br>\n",
    "\n",
    "\n",
    "<h4>Stochastic Gradient Descent</h4>\n",
    "With Stochastic Gradient Descent, the algorithm computes loss for the next training example and immediately adjusts the weights.  This approach can help in converging to optimal weights for large data sets.<br>\n",
    "However, one problem with this approach is algorithm is adjusting weights based on a single example [our end objective is to find weight that works for all training examples and not for the immediate example], and this can result in wild fluctuation in weights.<br>\n",
    "\n",
    "\n",
    "<h4>Mini-Batch Gradient Descent</h4>\n",
    "Mini-batch Gradient descent combines benefit of Stochastic and Batch Gradient descent.<br>\n",
    "It adjusts the weight by testing few samples. The number of samples is defined by mini-batch size, typically around 128.<br>\n",
    "The mini-batch approach can be used to compute loss in parallel.<br>\n",
    "This technique is prevalent in deep learning and other algorithms.<br>\n",
    "\n"
   ]
  },
  {
   "cell_type": "code",
   "execution_count": null,
   "metadata": {},
   "outputs": [],
   "source": []
  }
 ],
 "metadata": {
  "kernelspec": {
   "display_name": "Python 3",
   "language": "python",
   "name": "python3"
  },
  "language_info": {
   "codemirror_mode": {
    "name": "ipython",
    "version": 3
   },
   "file_extension": ".py",
   "mimetype": "text/x-python",
   "name": "python",
   "nbconvert_exporter": "python",
   "pygments_lexer": "ipython3",
   "version": "3.7.1"
  }
 },
 "nbformat": 4,
 "nbformat_minor": 1
}
